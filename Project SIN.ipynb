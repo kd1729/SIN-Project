{
 "cells": [
  {
   "cell_type": "code",
   "execution_count": 1,
   "id": "6d3883b2",
   "metadata": {},
   "outputs": [
    {
     "name": "stderr",
     "output_type": "stream",
     "text": [
      "Warning message:\n",
      "\"package 'gridExtra' was built under R version 3.6.3\"Warning message:\n",
      "\"package 'igraph' was built under R version 3.6.3\"\n",
      "Attaching package: 'igraph'\n",
      "\n",
      "The following objects are masked from 'package:stats':\n",
      "\n",
      "    decompose, spectrum\n",
      "\n",
      "The following object is masked from 'package:base':\n",
      "\n",
      "    union\n",
      "\n"
     ]
    }
   ],
   "source": [
    "# install.packages(\"gridExtra\") \n",
    "# install.packages(\"igraph\")\n",
    "# install.packages(\"ggplot2\") \n",
    "\n",
    "library(gridExtra)\n",
    "library(igraph)\n",
    "library(ggplot2)\n",
    "options(warn = - 1) "
   ]
  },
  {
   "cell_type": "code",
   "execution_count": 2,
   "id": "4cdbfcb9",
   "metadata": {},
   "outputs": [
    {
     "name": "stdout",
     "output_type": "stream",
     "text": [
      "IGRAPH cabf22d D--- 582 2810 -- \n",
      "+ attr: id (v/n), label (v/c), graphics (v/c), fan_count (v/c),\n",
      "| category (v/c), username (v/c), users_can_post (v/c), link (v/c),\n",
      "| post_activity (v/c), talking_about_count (v/c), Yala (v/c), id (e/n),\n",
      "| value (e/n)\n"
     ]
    }
   ],
   "source": [
    "# Reading in the graph, and viewing its brief summary\n",
    "\n",
    "pl_graph <- read.graph(file = \"pl.gml.txt\", format = \"gml\")\n",
    "\n",
    "summary(pl_graph)"
   ]
  },
  {
   "cell_type": "code",
   "execution_count": 3,
   "id": "edc4d68a",
   "metadata": {},
   "outputs": [
    {
     "data": {
      "text/html": [
       "<table>\n",
       "<thead><tr><th scope=col>id</th><th scope=col>name</th><th scope=col>category</th><th scope=col>fans</th><th scope=col>talking_about</th><th scope=col>post_activity</th></tr></thead>\n",
       "<tbody>\n",
       "\t<tr><td>10                     </td><td>Premier League         </td><td>Sports League          </td><td>39301910               </td><td>634081                 </td><td>0.31                   </td></tr>\n",
       "\t<tr><td>20                     </td><td>TAG Heuer              </td><td>Jewelry/Watches        </td><td> 2823063               </td><td> 30796                 </td><td>0.14                   </td></tr>\n",
       "\t<tr><td>30                                                           </td><td><span style=white-space:pre-wrap>Carling              </span></td><td>Food &amp; Beverage Company                                  </td><td><span style=white-space:pre-wrap>  200508</span>             </td><td> 12078                                                       </td><td>0.03                                                         </td></tr>\n",
       "\t<tr><td>40                     </td><td>Hull Tigers            </td><td>Sports Team            </td><td> 1000560               </td><td> 40500                 </td><td>0.23                   </td></tr>\n",
       "\t<tr><td>50                     </td><td>Middlesbrough FC       </td><td>Sports Team            </td><td>  431967               </td><td> 25042                 </td><td>0.29                   </td></tr>\n",
       "\t<tr><td>60                     </td><td>Burnley Football Club  </td><td>Sports Team            </td><td>  352042               </td><td>  3279                 </td><td>0.19                   </td></tr>\n",
       "</tbody>\n",
       "</table>\n"
      ],
      "text/latex": [
       "\\begin{tabular}{r|llllll}\n",
       " id & name & category & fans & talking\\_about & post\\_activity\\\\\n",
       "\\hline\n",
       "\t 10                      & Premier League          & Sports League           & 39301910                & 634081                  & 0.31                   \\\\\n",
       "\t 20                      & TAG Heuer               & Jewelry/Watches         &  2823063                &  30796                  & 0.14                   \\\\\n",
       "\t 30                        & Carling                   & Food \\& Beverage Company &   200508                  &  12078                    & 0.03                     \\\\\n",
       "\t 40                      & Hull Tigers             & Sports Team             &  1000560                &  40500                  & 0.23                   \\\\\n",
       "\t 50                      & Middlesbrough FC        & Sports Team             &   431967                &  25042                  & 0.29                   \\\\\n",
       "\t 60                      & Burnley Football Club   & Sports Team             &   352042                &   3279                  & 0.19                   \\\\\n",
       "\\end{tabular}\n"
      ],
      "text/markdown": [
       "\n",
       "| id | name | category | fans | talking_about | post_activity |\n",
       "|---|---|---|---|---|---|\n",
       "| 10                      | Premier League          | Sports League           | 39301910                | 634081                  | 0.31                    |\n",
       "| 20                      | TAG Heuer               | Jewelry/Watches         |  2823063                |  30796                  | 0.14                    |\n",
       "| 30                      | Carling                 | Food & Beverage Company |   200508                |  12078                  | 0.03                    |\n",
       "| 40                      | Hull Tigers             | Sports Team             |  1000560                |  40500                  | 0.23                    |\n",
       "| 50                      | Middlesbrough FC        | Sports Team             |   431967                |  25042                  | 0.29                    |\n",
       "| 60                      | Burnley Football Club   | Sports Team             |   352042                |   3279                  | 0.19                    |\n",
       "\n"
      ],
      "text/plain": [
       "  id name                  category                fans     talking_about\n",
       "1 10 Premier League        Sports League           39301910 634081       \n",
       "2 20 TAG Heuer             Jewelry/Watches          2823063  30796       \n",
       "3 30 Carling               Food & Beverage Company   200508  12078       \n",
       "4 40 Hull Tigers           Sports Team              1000560  40500       \n",
       "5 50 Middlesbrough FC      Sports Team               431967  25042       \n",
       "6 60 Burnley Football Club Sports Team               352042   3279       \n",
       "  post_activity\n",
       "1 0.31         \n",
       "2 0.14         \n",
       "3 0.03         \n",
       "4 0.23         \n",
       "5 0.29         \n",
       "6 0.19         "
      ]
     },
     "metadata": {},
     "output_type": "display_data"
    }
   ],
   "source": [
    "# Inspecting the page graph object\n",
    "\n",
    "pl_df <- data.frame(id = V(pl_graph)$id,\n",
    "                    name = V(pl_graph)$label,\n",
    "                    category = V(pl_graph)$category,\n",
    "                    fans = as.numeric(V(pl_graph)$fan_count),\n",
    "                    talking_about = as.numeric(V(pl_graph)$talking_about_count),\n",
    "                    post_activity = as.numeric(V(pl_graph)$post_activity),\n",
    "                    stringsAsFactors = FALSE\n",
    "                   )\n",
    "\n",
    "# View(pl_df) won't work in Jupyter notebook\n",
    "\n",
    "head(pl_df)"
   ]
  },
  {
   "cell_type": "code",
   "execution_count": 4,
   "id": "ab6bfd2d",
   "metadata": {},
   "outputs": [
    {
     "data": {
      "image/png": "[encoded data removed]",
      "text/plain": [
       "plot without title"
      ]
     },
     "metadata": {},
     "output_type": "display_data"
    }
   ],
   "source": [
    "# Aggregating pages based on their category\n",
    "\n",
    "grid.table(as.data.frame(sort(table(pl_df$category),\n",
    "                              decreasing = TRUE)[1:10]),\n",
    "           rows = NULL,\n",
    "           cols = c('Category', 'Count'))"
   ]
  },
  {
   "cell_type": "code",
   "execution_count": 5,
   "id": "64eb85bb",
   "metadata": {},
   "outputs": [
    {
     "data": {
      "image/png": "[encoded data removed]",
      "text/plain": [
       "plot without title"
      ]
     },
     "metadata": {},
     "output_type": "display_data"
    }
   ],
   "source": [
    "# Top pages based on their fan count (likes)\n",
    "\n",
    "grid.table(pl_df[order(pl_df$fans, decreasing = TRUE),\n",
    "                 c('name', 'category', 'fans')][1:10, ],\n",
    "           rows = NULL)"
   ]
  },
  {
   "cell_type": "code",
   "execution_count": 6,
   "id": "6e07e8b0",
   "metadata": {},
   "outputs": [
    {
     "data": {
      "image/png": "[encoded data removed]",
      "text/plain": [
       "plot without title"
      ]
     },
     "metadata": {},
     "output_type": "display_data"
    }
   ],
   "source": [
    "# Top pages based on total people talking about them\n",
    "\n",
    "grid.table(pl_df[order(pl_df$talking_about, \n",
    "                       decreasing = TRUE), \n",
    "                 c('name', 'category', 'talking_about')][1:10, ],\n",
    "           rows = NULL)"
   ]
  },
  {
   "cell_type": "code",
   "execution_count": 7,
   "id": "2754432a",
   "metadata": {},
   "outputs": [
    {
     "data": {
      "image/png": "[encoded data removed]",
      "text/plain": [
       "plot without title"
      ]
     },
     "metadata": {},
     "output_type": "display_data"
    }
   ],
   "source": [
    "# Top pages based on page posting activity\n",
    "\n",
    "grid.table(pl_df[order(pl_df$post_activity,\n",
    "                       decreasing = TRUE),\n",
    "                 c('name', 'category', 'post_activity')][1:10, ],\n",
    "           rows = NULL)"
   ]
  },
  {
   "cell_type": "code",
   "execution_count": 8,
   "id": "4099515a",
   "metadata": {},
   "outputs": [
    {
     "data": {
      "image/png": "[encoded data removed]",
      "text/plain": [
       "plot without title"
      ]
     },
     "metadata": {},
     "output_type": "display_data"
    }
   ],
   "source": [
    "# Checking correlation between fans and talking_about \n",
    "# for pages\n",
    "\n",
    "clean_pl_df <- pl_df[complete.cases(pl_df), ]\n",
    "rsq <- format(cor(clean_pl_df$fans, \n",
    "                  clean_pl_df$talking_about) ^ 2, digits = 3)\n",
    "corr_plot <- ggplot(pl_df, aes(x = fans, y = talking_about)) +\n",
    "               theme_bw() +\n",
    "               geom_jitter(alpha = 1/2) +\n",
    "               scale_x_log10() +\n",
    "               scale_y_log10() +\n",
    "               labs(x = \"Fans\", y = \"Talking About\") +\n",
    "               annotate(\"text\", label = paste(\"R-sq = \", rsq),\n",
    "                         x = +Inf, y = 1, hjust = 1)\n",
    "\n",
    "corr_plot"
   ]
  },
  {
   "cell_type": "code",
   "execution_count": 9,
   "id": "388999b9",
   "metadata": {},
   "outputs": [
    {
     "data": {
      "text/html": [
       "1"
      ],
      "text/latex": [
       "1"
      ],
      "text/markdown": [
       "1"
      ],
      "text/plain": [
       "[1] 1"
      ]
     },
     "metadata": {},
     "output_type": "display_data"
    }
   ],
   "source": [
    "# For plotting page network using degree filter\n",
    "\n",
    "degrees <- degree(pl_graph, mode = \"total\")\n",
    "degrees_df <- data.frame(ID = V(pl_graph)$id,\n",
    "                         Name = V(pl_graph)$label,\n",
    "                         Degree = as.vector(degrees))\n",
    "\n",
    "ids_to_remove <- degrees_df[degrees_df$Degree < 30, c('ID')]\n",
    "ids_to_remove <- ids_to_remove / 10\n",
    "\n",
    "# Getting filtered graph\n",
    "\n",
    "filtered_pl_graph <- delete.vertices(pl_graph, ids_to_remove)\n",
    "\n",
    "# Plotting the graph\n",
    "\n",
    "tkplot(filtered_pl_graph,\n",
    "       vertex.size = 10,\n",
    "       vertex.color = \"orange\",\n",
    "       vertex.frame.color = \"white\",\n",
    "       vertex.label.color = \"black\",\n",
    "       vertex.label.family = \"sans\",\n",
    "       edge.width = 0.2,\n",
    "       edge.arrow.size = 0,\n",
    "       edge.color = \"grey\",\n",
    "       edge.curved = TRUE,\n",
    "       layout = layout.fruchterman.reingold)"
   ]
  },
  {
   "cell_type": "code",
   "execution_count": 10,
   "id": "5308bda0",
   "metadata": {},
   "outputs": [
    {
     "data": {
      "text/html": [
       "7"
      ],
      "text/latex": [
       "7"
      ],
      "text/markdown": [
       "7"
      ],
      "text/plain": [
       "[1] 7"
      ]
     },
     "metadata": {},
     "output_type": "display_data"
    }
   ],
   "source": [
    "# Diameter (length of longest path) of the network\n",
    "\n",
    "diameter(pl_graph, directed = TRUE)"
   ]
  },
  {
   "cell_type": "code",
   "execution_count": 11,
   "id": "d73063de",
   "metadata": {},
   "outputs": [
    {
     "data": {
      "text/html": [
       "<ol class=list-inline>\n",
       "\t<li>'Sports Arena Hull'</li>\n",
       "\t<li>'Hull Tigers'</li>\n",
       "\t<li>'Teenage Cancer Trust'</li>\n",
       "\t<li>'Celtic FC'</li>\n",
       "\t<li>'Dafabet UK'</li>\n",
       "\t<li>'Premier League'</li>\n",
       "\t<li>'Carling'</li>\n",
       "\t<li>'Alice Gold'</li>\n",
       "</ol>\n"
      ],
      "text/latex": [
       "\\begin{enumerate*}\n",
       "\\item 'Sports Arena Hull'\n",
       "\\item 'Hull Tigers'\n",
       "\\item 'Teenage Cancer Trust'\n",
       "\\item 'Celtic FC'\n",
       "\\item 'Dafabet UK'\n",
       "\\item 'Premier League'\n",
       "\\item 'Carling'\n",
       "\\item 'Alice Gold'\n",
       "\\end{enumerate*}\n"
      ],
      "text/markdown": [
       "1. 'Sports Arena Hull'\n",
       "2. 'Hull Tigers'\n",
       "3. 'Teenage Cancer Trust'\n",
       "4. 'Celtic FC'\n",
       "5. 'Dafabet UK'\n",
       "6. 'Premier League'\n",
       "7. 'Carling'\n",
       "8. 'Alice Gold'\n",
       "\n",
       "\n"
      ],
      "text/plain": [
       "[1] \"Sports Arena Hull\"    \"Hull Tigers\"          \"Teenage Cancer Trust\"\n",
       "[4] \"Celtic FC\"            \"Dafabet UK\"           \"Premier League\"      \n",
       "[7] \"Carling\"              \"Alice Gold\"          "
      ]
     },
     "metadata": {},
     "output_type": "display_data"
    }
   ],
   "source": [
    "# Getting the longest path of the network\n",
    "\n",
    "get_diameter(pl_graph, directed = TRUE)$label"
   ]
  },
  {
   "cell_type": "code",
   "execution_count": 12,
   "id": "648faf8e",
   "metadata": {},
   "outputs": [
    {
     "data": {
      "text/html": [
       "3.69602850897396"
      ],
      "text/latex": [
       "3.69602850897396"
      ],
      "text/markdown": [
       "3.69602850897396"
      ],
      "text/plain": [
       "[1] 3.696029"
      ]
     },
     "metadata": {},
     "output_type": "display_data"
    }
   ],
   "source": [
    "# Mean distance between 2 nodes in the network\n",
    "\n",
    "mean_distance(pl_graph, directed = TRUE)"
   ]
  },
  {
   "cell_type": "code",
   "execution_count": 13,
   "id": "919a0dfb",
   "metadata": {},
   "outputs": [
    {
     "data": {
      "text/html": [
       "<table>\n",
       "<thead><tr><th></th><th scope=col>Premier League</th><th scope=col>Manchester United</th><th scope=col>Manchester City</th><th scope=col>Liverpool FC</th><th scope=col>Arsenal</th><th scope=col>Chelsea Football Club</th></tr></thead>\n",
       "<tbody>\n",
       "\t<tr><th scope=row>Premier League</th><td>0</td><td>1</td><td>1</td><td>1</td><td>1</td><td>1</td></tr>\n",
       "\t<tr><th scope=row>Manchester United</th><td>1</td><td>0</td><td>2</td><td>2</td><td>2</td><td>2</td></tr>\n",
       "\t<tr><th scope=row>Manchester City</th><td>1</td><td>2</td><td>0</td><td>2</td><td>2</td><td>2</td></tr>\n",
       "\t<tr><th scope=row>Liverpool FC</th><td>1</td><td>2</td><td>2</td><td>0</td><td>2</td><td>2</td></tr>\n",
       "\t<tr><th scope=row>Arsenal</th><td>1</td><td>2</td><td>2</td><td>2</td><td>0</td><td>2</td></tr>\n",
       "\t<tr><th scope=row>Chelsea Football Club</th><td>1</td><td>2</td><td>2</td><td>2</td><td>2</td><td>0</td></tr>\n",
       "</tbody>\n",
       "</table>\n"
      ],
      "text/latex": [
       "\\begin{tabular}{r|llllll}\n",
       "  & Premier League & Manchester United & Manchester City & Liverpool FC & Arsenal & Chelsea Football Club\\\\\n",
       "\\hline\n",
       "\tPremier League & 0 & 1 & 1 & 1 & 1 & 1\\\\\n",
       "\tManchester United & 1 & 0 & 2 & 2 & 2 & 2\\\\\n",
       "\tManchester City & 1 & 2 & 0 & 2 & 2 & 2\\\\\n",
       "\tLiverpool FC & 1 & 2 & 2 & 0 & 2 & 2\\\\\n",
       "\tArsenal & 1 & 2 & 2 & 2 & 0 & 2\\\\\n",
       "\tChelsea Football Club & 1 & 2 & 2 & 2 & 2 & 0\\\\\n",
       "\\end{tabular}\n"
      ],
      "text/markdown": [
       "\n",
       "| <!--/--> | Premier League | Manchester United | Manchester City | Liverpool FC | Arsenal | Chelsea Football Club |\n",
       "|---|---|---|---|---|---|---|\n",
       "| Premier League | 0 | 1 | 1 | 1 | 1 | 1 |\n",
       "| Manchester United | 1 | 0 | 2 | 2 | 2 | 2 |\n",
       "| Manchester City | 1 | 2 | 0 | 2 | 2 | 2 |\n",
       "| Liverpool FC | 1 | 2 | 2 | 0 | 2 | 2 |\n",
       "| Arsenal | 1 | 2 | 2 | 2 | 0 | 2 |\n",
       "| Chelsea Football Club | 1 | 2 | 2 | 2 | 2 | 0 |\n",
       "\n"
      ],
      "text/plain": [
       "                      Premier League Manchester United Manchester City\n",
       "Premier League        0              1                 1              \n",
       "Manchester United     1              0                 2              \n",
       "Manchester City       1              2                 0              \n",
       "Liverpool FC          1              2                 2              \n",
       "Arsenal               1              2                 2              \n",
       "Chelsea Football Club 1              2                 2              \n",
       "                      Liverpool FC Arsenal Chelsea Football Club\n",
       "Premier League        1            1       1                    \n",
       "Manchester United     2            2       2                    \n",
       "Manchester City       2            2       2                    \n",
       "Liverpool FC          0            2       2                    \n",
       "Arsenal               2            0       2                    \n",
       "Chelsea Football Club 2            2       0                    "
      ]
     },
     "metadata": {},
     "output_type": "display_data"
    },
    {
     "data": {
      "image/png": "[encoded data removed]",
      "text/plain": [
       "plot without title"
      ]
     },
     "metadata": {},
     "output_type": "display_data"
    }
   ],
   "source": [
    "# Distance between various important pages (nodes)\n",
    "\n",
    "node_dists <- distances(pl_graph, weights = NA)\n",
    "labels <- c(\"Premier League\", pl_df[c(21, 22, 23,24, 25),\n",
    "                                    'name'])\n",
    "filtered_dists <- node_dists[c(1, 21, 22, 23, 24, 25),\n",
    "                             c(1, 21, 22, 23, 24, 25)]\n",
    "\n",
    "colnames(filtered_dists) <- labels\n",
    "rownames(filtered_dists) <- labels\n",
    "grid.table(filtered_dists)\n",
    "\n",
    "head(filtered_dists)"
   ]
  },
  {
   "cell_type": "code",
   "execution_count": 14,
   "id": "6d74f402",
   "metadata": {},
   "outputs": [
    {
     "data": {
      "text/html": [
       "0.00831011823435125"
      ],
      "text/latex": [
       "0.00831011823435125"
      ],
      "text/markdown": [
       "0.00831011823435125"
      ],
      "text/plain": [
       "[1] 0.008310118"
      ]
     },
     "metadata": {},
     "output_type": "display_data"
    }
   ],
   "source": [
    "# Edge density = no. of edges / no. of all possible edges\n",
    "\n",
    "edge_density(pl_graph)"
   ]
  },
  {
   "cell_type": "code",
   "execution_count": 15,
   "id": "fd496eb5",
   "metadata": {},
   "outputs": [
    {
     "data": {
      "text/html": [
       "0.00828350219730173"
      ],
      "text/latex": [
       "0.00828350219730173"
      ],
      "text/markdown": [
       "0.00828350219730173"
      ],
      "text/plain": [
       "[1] 0.008283502"
      ]
     },
     "metadata": {},
     "output_type": "display_data"
    }
   ],
   "source": [
    "# verifing edge density\n",
    "2801 / (582 * 581)"
   ]
  },
  {
   "cell_type": "code",
   "execution_count": 16,
   "id": "9745ead6",
   "metadata": {},
   "outputs": [
    {
     "data": {
      "text/html": [
       "0.163949029784267"
      ],
      "text/latex": [
       "0.163949029784267"
      ],
      "text/markdown": [
       "0.163949029784267"
      ],
      "text/plain": [
       "[1] 0.163949"
      ]
     },
     "metadata": {},
     "output_type": "display_data"
    }
   ],
   "source": [
    "# Transitivity clustering coefficient\n",
    "\n",
    "transitivity(pl_graph)"
   ]
  },
  {
   "cell_type": "code",
   "execution_count": 17,
   "id": "5e65cc33",
   "metadata": {},
   "outputs": [
    {
     "data": {
      "text/html": [
       "<table>\n",
       "<thead><tr><th scope=col>Page</th><th scope=col>PageCoreness</th></tr></thead>\n",
       "<tbody>\n",
       "\t<tr><td>Premier League              </td><td>11                          </td></tr>\n",
       "\t<tr><td>TAG Heuer                   </td><td> 6                          </td></tr>\n",
       "\t<tr><td>Carling                     </td><td> 5                          </td></tr>\n",
       "\t<tr><td>Hull Tigers                 </td><td> 9                          </td></tr>\n",
       "\t<tr><td>Middlesbrough FC            </td><td> 7                          </td></tr>\n",
       "\t<tr><td>Burnley Football Club       </td><td>11                          </td></tr>\n",
       "\t<tr><td>Watford FC                  </td><td> 9                          </td></tr>\n",
       "\t<tr><td>AFC Bournemouth             </td><td> 9                          </td></tr>\n",
       "\t<tr><td>Leicester City Football Club</td><td>10                          </td></tr>\n",
       "\t<tr><td>Crystal Palace Football Club</td><td>11                          </td></tr>\n",
       "\t<tr><td>West Ham United             </td><td>11                          </td></tr>\n",
       "\t<tr><td>Southampton FC              </td><td>11                          </td></tr>\n",
       "\t<tr><td>Love GREAT Britain          </td><td> 5                          </td></tr>\n",
       "\t<tr><td>Everton Football Club       </td><td>11                          </td></tr>\n",
       "\t<tr><td>Nike Football               </td><td>11                          </td></tr>\n",
       "\t<tr><td>West Bromwich Albion        </td><td>11                          </td></tr>\n",
       "\t<tr><td>Tottenham Hotspur           </td><td>11                          </td></tr>\n",
       "\t<tr><td>Swansea City Football Club  </td><td>11                          </td></tr>\n",
       "\t<tr><td>Sunderland AFC              </td><td>11                          </td></tr>\n",
       "\t<tr><td>Stoke City Football Club    </td><td>11                          </td></tr>\n",
       "\t<tr><td>Manchester United           </td><td>11                          </td></tr>\n",
       "\t<tr><td>Manchester City             </td><td>11                          </td></tr>\n",
       "\t<tr><td>Liverpool FC                </td><td>11                          </td></tr>\n",
       "\t<tr><td>Arsenal                     </td><td>11                          </td></tr>\n",
       "\t<tr><td>Chelsea Football Club       </td><td>11                          </td></tr>\n",
       "\t<tr><td>Barclays Football           </td><td>11                          </td></tr>\n",
       "\t<tr><td>EA SPORTS                   </td><td> 9                          </td></tr>\n",
       "\t<tr><td>BMC Racing Team             </td><td> 2                          </td></tr>\n",
       "\t<tr><td>LaLiga                      </td><td> 6                          </td></tr>\n",
       "\t<tr><td>Daniel Ricciardo            </td><td> 4                          </td></tr>\n",
       "\t<tr><td>...</td><td>...</td></tr>\n",
       "\t<tr><td>Victor Moses                             </td><td> 9                                       </td></tr>\n",
       "\t<tr><td>Petr ÄŒech                               </td><td>10                                       </td></tr>\n",
       "\t<tr><td>Lucas Piazon                             </td><td> 5                                       </td></tr>\n",
       "\t<tr><td>Delta                                    </td><td> 3                                       </td></tr>\n",
       "\t<tr><td>Stamford Bridge                          </td><td> 2                                       </td></tr>\n",
       "\t<tr><td>adidas Football                          </td><td>11                                       </td></tr>\n",
       "\t<tr><td>Beyond Sport                             </td><td>11                                       </td></tr>\n",
       "\t<tr><td>Barclays Early Careers and Graduates     </td><td> 4                                       </td></tr>\n",
       "\t<tr><td>LifeSkills                               </td><td> 5                                       </td></tr>\n",
       "\t<tr><td>Barclays Wealth and Investment Management</td><td> 3                                       </td></tr>\n",
       "\t<tr><td>Barclays Business UK                     </td><td> 5                                       </td></tr>\n",
       "\t<tr><td>Barclaycard                              </td><td> 5                                       </td></tr>\n",
       "\t<tr><td>Barclays UK                              </td><td> 5                                       </td></tr>\n",
       "\t<tr><td>Lexis                                    </td><td> 1                                       </td></tr>\n",
       "\t<tr><td>DYNAMO                                   </td><td> 3                                       </td></tr>\n",
       "\t<tr><td>The Sims                                 </td><td> 3                                       </td></tr>\n",
       "\t<tr><td>FIFA Ultimate Team                       </td><td> 4                                       </td></tr>\n",
       "\t<tr><td>EA Sports Grand Slam Tennis              </td><td> 5                                       </td></tr>\n",
       "\t<tr><td>EA Help                                  </td><td> 5                                       </td></tr>\n",
       "\t<tr><td>EA SPORTS NHL                            </td><td> 5                                       </td></tr>\n",
       "\t<tr><td>PGA TOUR Golf Challenge                  </td><td> 2                                       </td></tr>\n",
       "\t<tr><td>EA SPORTS FIGHT NIGHT                    </td><td> 4                                       </td></tr>\n",
       "\t<tr><td>EA SPORTS SSX                            </td><td> 5                                       </td></tr>\n",
       "\t<tr><td>Origin Insider                           </td><td> 4                                       </td></tr>\n",
       "\t<tr><td>NBA JAM                                  </td><td> 4                                       </td></tr>\n",
       "\t<tr><td>EA SPORTS NBA LIVE                       </td><td> 4                                       </td></tr>\n",
       "\t<tr><td>EA SPORTS NCAA Football                  </td><td> 5                                       </td></tr>\n",
       "\t<tr><td>EA SPORTS UFC                            </td><td> 4                                       </td></tr>\n",
       "\t<tr><td>EA SPORTS PGA TOUR                       </td><td> 3                                       </td></tr>\n",
       "\t<tr><td>EA SPORTS MADDEN NFL                     </td><td> 5                                       </td></tr>\n",
       "</tbody>\n",
       "</table>\n"
      ],
      "text/latex": [
       "\\begin{tabular}{r|ll}\n",
       " Page & PageCoreness\\\\\n",
       "\\hline\n",
       "\t Premier League               & 11                          \\\\\n",
       "\t TAG Heuer                    &  6                          \\\\\n",
       "\t Carling                      &  5                          \\\\\n",
       "\t Hull Tigers                  &  9                          \\\\\n",
       "\t Middlesbrough FC             &  7                          \\\\\n",
       "\t Burnley Football Club        & 11                          \\\\\n",
       "\t Watford FC                   &  9                          \\\\\n",
       "\t AFC Bournemouth              &  9                          \\\\\n",
       "\t Leicester City Football Club & 10                          \\\\\n",
       "\t Crystal Palace Football Club & 11                          \\\\\n",
       "\t West Ham United              & 11                          \\\\\n",
       "\t Southampton FC               & 11                          \\\\\n",
       "\t Love GREAT Britain           &  5                          \\\\\n",
       "\t Everton Football Club        & 11                          \\\\\n",
       "\t Nike Football                & 11                          \\\\\n",
       "\t West Bromwich Albion         & 11                          \\\\\n",
       "\t Tottenham Hotspur            & 11                          \\\\\n",
       "\t Swansea City Football Club   & 11                          \\\\\n",
       "\t Sunderland AFC               & 11                          \\\\\n",
       "\t Stoke City Football Club     & 11                          \\\\\n",
       "\t Manchester United            & 11                          \\\\\n",
       "\t Manchester City              & 11                          \\\\\n",
       "\t Liverpool FC                 & 11                          \\\\\n",
       "\t Arsenal                      & 11                          \\\\\n",
       "\t Chelsea Football Club        & 11                          \\\\\n",
       "\t Barclays Football            & 11                          \\\\\n",
       "\t EA SPORTS                    &  9                          \\\\\n",
       "\t BMC Racing Team              &  2                          \\\\\n",
       "\t LaLiga                       &  6                          \\\\\n",
       "\t Daniel Ricciardo             &  4                          \\\\\n",
       "\t ... & ...\\\\\n",
       "\t Victor Moses                              &  9                                       \\\\\n",
       "\t Petr ÄŒech                                & 10                                       \\\\\n",
       "\t Lucas Piazon                              &  5                                       \\\\\n",
       "\t Delta                                     &  3                                       \\\\\n",
       "\t Stamford Bridge                           &  2                                       \\\\\n",
       "\t adidas Football                           & 11                                       \\\\\n",
       "\t Beyond Sport                              & 11                                       \\\\\n",
       "\t Barclays Early Careers and Graduates      &  4                                       \\\\\n",
       "\t LifeSkills                                &  5                                       \\\\\n",
       "\t Barclays Wealth and Investment Management &  3                                       \\\\\n",
       "\t Barclays Business UK                      &  5                                       \\\\\n",
       "\t Barclaycard                               &  5                                       \\\\\n",
       "\t Barclays UK                               &  5                                       \\\\\n",
       "\t Lexis                                     &  1                                       \\\\\n",
       "\t DYNAMO                                    &  3                                       \\\\\n",
       "\t The Sims                                  &  3                                       \\\\\n",
       "\t FIFA Ultimate Team                        &  4                                       \\\\\n",
       "\t EA Sports Grand Slam Tennis               &  5                                       \\\\\n",
       "\t EA Help                                   &  5                                       \\\\\n",
       "\t EA SPORTS NHL                             &  5                                       \\\\\n",
       "\t PGA TOUR Golf Challenge                   &  2                                       \\\\\n",
       "\t EA SPORTS FIGHT NIGHT                     &  4                                       \\\\\n",
       "\t EA SPORTS SSX                             &  5                                       \\\\\n",
       "\t Origin Insider                            &  4                                       \\\\\n",
       "\t NBA JAM                                   &  4                                       \\\\\n",
       "\t EA SPORTS NBA LIVE                        &  4                                       \\\\\n",
       "\t EA SPORTS NCAA Football                   &  5                                       \\\\\n",
       "\t EA SPORTS UFC                             &  4                                       \\\\\n",
       "\t EA SPORTS PGA TOUR                        &  3                                       \\\\\n",
       "\t EA SPORTS MADDEN NFL                      &  5                                       \\\\\n",
       "\\end{tabular}\n"
      ],
      "text/markdown": [
       "\n",
       "| Page | PageCoreness |\n",
       "|---|---|\n",
       "| Premier League               | 11                           |\n",
       "| TAG Heuer                    |  6                           |\n",
       "| Carling                      |  5                           |\n",
       "| Hull Tigers                  |  9                           |\n",
       "| Middlesbrough FC             |  7                           |\n",
       "| Burnley Football Club        | 11                           |\n",
       "| Watford FC                   |  9                           |\n",
       "| AFC Bournemouth              |  9                           |\n",
       "| Leicester City Football Club | 10                           |\n",
       "| Crystal Palace Football Club | 11                           |\n",
       "| West Ham United              | 11                           |\n",
       "| Southampton FC               | 11                           |\n",
       "| Love GREAT Britain           |  5                           |\n",
       "| Everton Football Club        | 11                           |\n",
       "| Nike Football                | 11                           |\n",
       "| West Bromwich Albion         | 11                           |\n",
       "| Tottenham Hotspur            | 11                           |\n",
       "| Swansea City Football Club   | 11                           |\n",
       "| Sunderland AFC               | 11                           |\n",
       "| Stoke City Football Club     | 11                           |\n",
       "| Manchester United            | 11                           |\n",
       "| Manchester City              | 11                           |\n",
       "| Liverpool FC                 | 11                           |\n",
       "| Arsenal                      | 11                           |\n",
       "| Chelsea Football Club        | 11                           |\n",
       "| Barclays Football            | 11                           |\n",
       "| EA SPORTS                    |  9                           |\n",
       "| BMC Racing Team              |  2                           |\n",
       "| LaLiga                       |  6                           |\n",
       "| Daniel Ricciardo             |  4                           |\n",
       "| ... | ... |\n",
       "| Victor Moses                              |  9                                        |\n",
       "| Petr ÄŒech                                | 10                                        |\n",
       "| Lucas Piazon                              |  5                                        |\n",
       "| Delta                                     |  3                                        |\n",
       "| Stamford Bridge                           |  2                                        |\n",
       "| adidas Football                           | 11                                        |\n",
       "| Beyond Sport                              | 11                                        |\n",
       "| Barclays Early Careers and Graduates      |  4                                        |\n",
       "| LifeSkills                                |  5                                        |\n",
       "| Barclays Wealth and Investment Management |  3                                        |\n",
       "| Barclays Business UK                      |  5                                        |\n",
       "| Barclaycard                               |  5                                        |\n",
       "| Barclays UK                               |  5                                        |\n",
       "| Lexis                                     |  1                                        |\n",
       "| DYNAMO                                    |  3                                        |\n",
       "| The Sims                                  |  3                                        |\n",
       "| FIFA Ultimate Team                        |  4                                        |\n",
       "| EA Sports Grand Slam Tennis               |  5                                        |\n",
       "| EA Help                                   |  5                                        |\n",
       "| EA SPORTS NHL                             |  5                                        |\n",
       "| PGA TOUR Golf Challenge                   |  2                                        |\n",
       "| EA SPORTS FIGHT NIGHT                     |  4                                        |\n",
       "| EA SPORTS SSX                             |  5                                        |\n",
       "| Origin Insider                            |  4                                        |\n",
       "| NBA JAM                                   |  4                                        |\n",
       "| EA SPORTS NBA LIVE                        |  4                                        |\n",
       "| EA SPORTS NCAA Football                   |  5                                        |\n",
       "| EA SPORTS UFC                             |  4                                        |\n",
       "| EA SPORTS PGA TOUR                        |  3                                        |\n",
       "| EA SPORTS MADDEN NFL                      |  5                                        |\n",
       "\n"
      ],
      "text/plain": [
       "    Page                                      PageCoreness\n",
       "1   Premier League                            11          \n",
       "2   TAG Heuer                                  6          \n",
       "3   Carling                                    5          \n",
       "4   Hull Tigers                                9          \n",
       "5   Middlesbrough FC                           7          \n",
       "6   Burnley Football Club                     11          \n",
       "7   Watford FC                                 9          \n",
       "8   AFC Bournemouth                            9          \n",
       "9   Leicester City Football Club              10          \n",
       "10  Crystal Palace Football Club              11          \n",
       "11  West Ham United                           11          \n",
       "12  Southampton FC                            11          \n",
       "13  Love GREAT Britain                         5          \n",
       "14  Everton Football Club                     11          \n",
       "15  Nike Football                             11          \n",
       "16  West Bromwich Albion                      11          \n",
       "17  Tottenham Hotspur                         11          \n",
       "18  Swansea City Football Club                11          \n",
       "19  Sunderland AFC                            11          \n",
       "20  Stoke City Football Club                  11          \n",
       "21  Manchester United                         11          \n",
       "22  Manchester City                           11          \n",
       "23  Liverpool FC                              11          \n",
       "24  Arsenal                                   11          \n",
       "25  Chelsea Football Club                     11          \n",
       "26  Barclays Football                         11          \n",
       "27  EA SPORTS                                  9          \n",
       "28  BMC Racing Team                            2          \n",
       "29  LaLiga                                     6          \n",
       "30  Daniel Ricciardo                           4          \n",
       "... ...                                       ...         \n",
       "553 Victor Moses                               9          \n",
       "554 Petr ÄŒech                                10          \n",
       "555 Lucas Piazon                               5          \n",
       "556 Delta                                      3          \n",
       "557 Stamford Bridge                            2          \n",
       "558 adidas Football                           11          \n",
       "559 Beyond Sport                              11          \n",
       "560 Barclays Early Careers and Graduates       4          \n",
       "561 LifeSkills                                 5          \n",
       "562 Barclays Wealth and Investment Management  3          \n",
       "563 Barclays Business UK                       5          \n",
       "564 Barclaycard                                5          \n",
       "565 Barclays UK                                5          \n",
       "566 Lexis                                      1          \n",
       "567 DYNAMO                                     3          \n",
       "568 The Sims                                   3          \n",
       "569 FIFA Ultimate Team                         4          \n",
       "570 EA Sports Grand Slam Tennis                5          \n",
       "571 EA Help                                    5          \n",
       "572 EA SPORTS NHL                              5          \n",
       "573 PGA TOUR Golf Challenge                    2          \n",
       "574 EA SPORTS FIGHT NIGHT                      4          \n",
       "575 EA SPORTS SSX                              5          \n",
       "576 Origin Insider                             4          \n",
       "577 NBA JAM                                    4          \n",
       "578 EA SPORTS NBA LIVE                         4          \n",
       "579 EA SPORTS NCAA Football                    5          \n",
       "580 EA SPORTS UFC                              4          \n",
       "581 EA SPORTS PGA TOUR                         3          \n",
       "582 EA SPORTS MADDEN NFL                       5          "
      ]
     },
     "metadata": {},
     "output_type": "display_data"
    }
   ],
   "source": [
    "# The k-core of a graph is a maximal subgraph in which each\n",
    "# vertex has at least degree k.\n",
    "# The coreness of a vertex is k if it belongs to the k-core\n",
    "# but not to the (k+1)-core\n",
    "\n",
    "page_names <- V(pl_graph)$label\n",
    "page_coreness <- coreness(pl_graph)\n",
    "page_coreness_df = data.frame(Page = page_names,\n",
    "                              PageCoreness = page_coreness)\n",
    "page_coreness_df"
   ]
  },
  {
   "cell_type": "code",
   "execution_count": 18,
   "id": "f217eb67",
   "metadata": {},
   "outputs": [
    {
     "data": {
      "text/html": [
       "11"
      ],
      "text/latex": [
       "11"
      ],
      "text/markdown": [
       "11"
      ],
      "text/plain": [
       "[1] 11"
      ]
     },
     "metadata": {},
     "output_type": "display_data"
    }
   ],
   "source": [
    "# Max coreness\n",
    "\n",
    "max(page_coreness_df$PageCoreness)"
   ]
  },
  {
   "cell_type": "code",
   "execution_count": 19,
   "id": "d3b5ed76",
   "metadata": {},
   "outputs": [
    {
     "data": {
      "text/html": [
       "<table>\n",
       "<thead><tr><th></th><th scope=col>Page</th><th scope=col>PageCoreness</th></tr></thead>\n",
       "<tbody>\n",
       "\t<tr><th scope=row>1</th><td>Premier League              </td><td>11                          </td></tr>\n",
       "\t<tr><th scope=row>6</th><td>Burnley Football Club       </td><td>11                          </td></tr>\n",
       "\t<tr><th scope=row>10</th><td>Crystal Palace Football Club</td><td>11                          </td></tr>\n",
       "\t<tr><th scope=row>11</th><td>West Ham United             </td><td>11                          </td></tr>\n",
       "\t<tr><th scope=row>12</th><td>Southampton FC              </td><td>11                          </td></tr>\n",
       "\t<tr><th scope=row>14</th><td>Everton Football Club       </td><td>11                          </td></tr>\n",
       "\t<tr><th scope=row>15</th><td>Nike Football               </td><td>11                          </td></tr>\n",
       "\t<tr><th scope=row>16</th><td>West Bromwich Albion        </td><td>11                          </td></tr>\n",
       "\t<tr><th scope=row>17</th><td>Tottenham Hotspur           </td><td>11                          </td></tr>\n",
       "\t<tr><th scope=row>18</th><td>Swansea City Football Club  </td><td>11                          </td></tr>\n",
       "\t<tr><th scope=row>19</th><td>Sunderland AFC              </td><td>11                          </td></tr>\n",
       "\t<tr><th scope=row>20</th><td>Stoke City Football Club    </td><td>11                          </td></tr>\n",
       "\t<tr><th scope=row>21</th><td>Manchester United           </td><td>11                          </td></tr>\n",
       "\t<tr><th scope=row>22</th><td>Manchester City             </td><td>11                          </td></tr>\n",
       "\t<tr><th scope=row>23</th><td>Liverpool FC                </td><td>11                          </td></tr>\n",
       "\t<tr><th scope=row>24</th><td>Arsenal                     </td><td>11                          </td></tr>\n",
       "\t<tr><th scope=row>25</th><td>Chelsea Football Club       </td><td>11                          </td></tr>\n",
       "\t<tr><th scope=row>26</th><td>Barclays Football           </td><td>11                          </td></tr>\n",
       "\t<tr><th scope=row>77</th><td>adidas                      </td><td>11                          </td></tr>\n",
       "\t<tr><th scope=row>99</th><td>QPR FC                      </td><td>11                          </td></tr>\n",
       "</tbody>\n",
       "</table>\n"
      ],
      "text/latex": [
       "\\begin{tabular}{r|ll}\n",
       "  & Page & PageCoreness\\\\\n",
       "\\hline\n",
       "\t1 & Premier League               & 11                          \\\\\n",
       "\t6 & Burnley Football Club        & 11                          \\\\\n",
       "\t10 & Crystal Palace Football Club & 11                          \\\\\n",
       "\t11 & West Ham United              & 11                          \\\\\n",
       "\t12 & Southampton FC               & 11                          \\\\\n",
       "\t14 & Everton Football Club        & 11                          \\\\\n",
       "\t15 & Nike Football                & 11                          \\\\\n",
       "\t16 & West Bromwich Albion         & 11                          \\\\\n",
       "\t17 & Tottenham Hotspur            & 11                          \\\\\n",
       "\t18 & Swansea City Football Club   & 11                          \\\\\n",
       "\t19 & Sunderland AFC               & 11                          \\\\\n",
       "\t20 & Stoke City Football Club     & 11                          \\\\\n",
       "\t21 & Manchester United            & 11                          \\\\\n",
       "\t22 & Manchester City              & 11                          \\\\\n",
       "\t23 & Liverpool FC                 & 11                          \\\\\n",
       "\t24 & Arsenal                      & 11                          \\\\\n",
       "\t25 & Chelsea Football Club        & 11                          \\\\\n",
       "\t26 & Barclays Football            & 11                          \\\\\n",
       "\t77 & adidas                       & 11                          \\\\\n",
       "\t99 & QPR FC                       & 11                          \\\\\n",
       "\\end{tabular}\n"
      ],
      "text/markdown": [
       "\n",
       "| <!--/--> | Page | PageCoreness |\n",
       "|---|---|---|\n",
       "| 1 | Premier League               | 11                           |\n",
       "| 6 | Burnley Football Club        | 11                           |\n",
       "| 10 | Crystal Palace Football Club | 11                           |\n",
       "| 11 | West Ham United              | 11                           |\n",
       "| 12 | Southampton FC               | 11                           |\n",
       "| 14 | Everton Football Club        | 11                           |\n",
       "| 15 | Nike Football                | 11                           |\n",
       "| 16 | West Bromwich Albion         | 11                           |\n",
       "| 17 | Tottenham Hotspur            | 11                           |\n",
       "| 18 | Swansea City Football Club   | 11                           |\n",
       "| 19 | Sunderland AFC               | 11                           |\n",
       "| 20 | Stoke City Football Club     | 11                           |\n",
       "| 21 | Manchester United            | 11                           |\n",
       "| 22 | Manchester City              | 11                           |\n",
       "| 23 | Liverpool FC                 | 11                           |\n",
       "| 24 | Arsenal                      | 11                           |\n",
       "| 25 | Chelsea Football Club        | 11                           |\n",
       "| 26 | Barclays Football            | 11                           |\n",
       "| 77 | adidas                       | 11                           |\n",
       "| 99 | QPR FC                       | 11                           |\n",
       "\n"
      ],
      "text/plain": [
       "   Page                         PageCoreness\n",
       "1  Premier League               11          \n",
       "6  Burnley Football Club        11          \n",
       "10 Crystal Palace Football Club 11          \n",
       "11 West Ham United              11          \n",
       "12 Southampton FC               11          \n",
       "14 Everton Football Club        11          \n",
       "15 Nike Football                11          \n",
       "16 West Bromwich Albion         11          \n",
       "17 Tottenham Hotspur            11          \n",
       "18 Swansea City Football Club   11          \n",
       "19 Sunderland AFC               11          \n",
       "20 Stoke City Football Club     11          \n",
       "21 Manchester United            11          \n",
       "22 Manchester City              11          \n",
       "23 Liverpool FC                 11          \n",
       "24 Arsenal                      11          \n",
       "25 Chelsea Football Club        11          \n",
       "26 Barclays Football            11          \n",
       "77 adidas                       11          \n",
       "99 QPR FC                       11          "
      ]
     },
     "metadata": {},
     "output_type": "display_data"
    }
   ],
   "source": [
    "# Viewing the core of the network\n",
    "\n",
    "head(page_coreness_df[page_coreness_df$PageCoreness ==\n",
    "                      max(page_coreness_df$PageCoreness), ], 20)"
   ]
  },
  {
   "cell_type": "code",
   "execution_count": 20,
   "id": "ddde2af2",
   "metadata": {},
   "outputs": [
    {
     "data": {
      "text/html": [
       "<table>\n",
       "<thead><tr><th></th><th scope=col>Page</th><th scope=col>PageCoreness</th></tr></thead>\n",
       "<tbody>\n",
       "\t<tr><th scope=row>34</th><td>Henrik Lundqvist                     </td><td>1                                    </td></tr>\n",
       "\t<tr><th scope=row>37</th><td>Cara Delevingne                      </td><td>1                                    </td></tr>\n",
       "\t<tr><th scope=row>38</th><td>La Carrera Panamericana              </td><td>1                                    </td></tr>\n",
       "\t<tr><th scope=row>39</th><td>Patrick Dempsey                      </td><td>1                                    </td></tr>\n",
       "\t<tr><th scope=row>40</th><td>Dempsey Racing                       </td><td>1                                    </td></tr>\n",
       "\t<tr><th scope=row>52</th><td>The Carling Local at V Festival      </td><td>1                                    </td></tr>\n",
       "\t<tr><th scope=row>57</th><td>Tigers Trust                         </td><td>1                                    </td></tr>\n",
       "\t<tr><th scope=row>59</th><td>Hull Tigers Commercialâ€™            </td><td>1                                    </td></tr>\n",
       "\t<tr><th scope=row>60</th><td>Hull Tigers Arabic                   </td><td>1                                    </td></tr>\n",
       "\t<tr><th scope=row>61</th><td>Andy Dawson Testimonial              </td><td>1                                    </td></tr>\n",
       "\t<tr><th scope=row>84</th><td>Safehands Nursery at Barnoldswick    </td><td>1                                    </td></tr>\n",
       "\t<tr><th scope=row>88</th><td>Liv Fox Photography                  </td><td>1                                    </td></tr>\n",
       "\t<tr><th scope=row>89</th><td>Split Screen Wedding Dreams          </td><td>1                                    </td></tr>\n",
       "\t<tr><th scope=row>94</th><td>Alex O'Neill Photography             </td><td>1                                    </td></tr>\n",
       "\t<tr><th scope=row>95</th><td>Pier Fun Casinos Event Management Ltd</td><td>1                                    </td></tr>\n",
       "\t<tr><th scope=row>98</th><td>BBC Radio Lancashire                 </td><td>1                                    </td></tr>\n",
       "\t<tr><th scope=row>104</th><td>Myprotein                            </td><td>1                                    </td></tr>\n",
       "\t<tr><th scope=row>105</th><td>Althams Travel Todmorden             </td><td>1                                    </td></tr>\n",
       "\t<tr><th scope=row>119</th><td>Harvey Nichols                       </td><td>1                                    </td></tr>\n",
       "\t<tr><th scope=row>121</th><td>SEALY MATTRESS                       </td><td>1                                    </td></tr>\n",
       "</tbody>\n",
       "</table>\n"
      ],
      "text/latex": [
       "\\begin{tabular}{r|ll}\n",
       "  & Page & PageCoreness\\\\\n",
       "\\hline\n",
       "\t34 & Henrik Lundqvist                      & 1                                    \\\\\n",
       "\t37 & Cara Delevingne                       & 1                                    \\\\\n",
       "\t38 & La Carrera Panamericana               & 1                                    \\\\\n",
       "\t39 & Patrick Dempsey                       & 1                                    \\\\\n",
       "\t40 & Dempsey Racing                        & 1                                    \\\\\n",
       "\t52 & The Carling Local at V Festival       & 1                                    \\\\\n",
       "\t57 & Tigers Trust                          & 1                                    \\\\\n",
       "\t59 & Hull Tigers Commercialâ€™             & 1                                    \\\\\n",
       "\t60 & Hull Tigers Arabic                    & 1                                    \\\\\n",
       "\t61 & Andy Dawson Testimonial               & 1                                    \\\\\n",
       "\t84 & Safehands Nursery at Barnoldswick     & 1                                    \\\\\n",
       "\t88 & Liv Fox Photography                   & 1                                    \\\\\n",
       "\t89 & Split Screen Wedding Dreams           & 1                                    \\\\\n",
       "\t94 & Alex O'Neill Photography              & 1                                    \\\\\n",
       "\t95 & Pier Fun Casinos Event Management Ltd & 1                                    \\\\\n",
       "\t98 & BBC Radio Lancashire                  & 1                                    \\\\\n",
       "\t104 & Myprotein                             & 1                                    \\\\\n",
       "\t105 & Althams Travel Todmorden              & 1                                    \\\\\n",
       "\t119 & Harvey Nichols                        & 1                                    \\\\\n",
       "\t121 & SEALY MATTRESS                        & 1                                    \\\\\n",
       "\\end{tabular}\n"
      ],
      "text/markdown": [
       "\n",
       "| <!--/--> | Page | PageCoreness |\n",
       "|---|---|---|\n",
       "| 34 | Henrik Lundqvist                      | 1                                     |\n",
       "| 37 | Cara Delevingne                       | 1                                     |\n",
       "| 38 | La Carrera Panamericana               | 1                                     |\n",
       "| 39 | Patrick Dempsey                       | 1                                     |\n",
       "| 40 | Dempsey Racing                        | 1                                     |\n",
       "| 52 | The Carling Local at V Festival       | 1                                     |\n",
       "| 57 | Tigers Trust                          | 1                                     |\n",
       "| 59 | Hull Tigers Commercialâ€™             | 1                                     |\n",
       "| 60 | Hull Tigers Arabic                    | 1                                     |\n",
       "| 61 | Andy Dawson Testimonial               | 1                                     |\n",
       "| 84 | Safehands Nursery at Barnoldswick     | 1                                     |\n",
       "| 88 | Liv Fox Photography                   | 1                                     |\n",
       "| 89 | Split Screen Wedding Dreams           | 1                                     |\n",
       "| 94 | Alex O'Neill Photography              | 1                                     |\n",
       "| 95 | Pier Fun Casinos Event Management Ltd | 1                                     |\n",
       "| 98 | BBC Radio Lancashire                  | 1                                     |\n",
       "| 104 | Myprotein                             | 1                                     |\n",
       "| 105 | Althams Travel Todmorden              | 1                                     |\n",
       "| 119 | Harvey Nichols                        | 1                                     |\n",
       "| 121 | SEALY MATTRESS                        | 1                                     |\n",
       "\n"
      ],
      "text/plain": [
       "    Page                                  PageCoreness\n",
       "34  Henrik Lundqvist                      1           \n",
       "37  Cara Delevingne                       1           \n",
       "38  La Carrera Panamericana               1           \n",
       "39  Patrick Dempsey                       1           \n",
       "40  Dempsey Racing                        1           \n",
       "52  The Carling Local at V Festival       1           \n",
       "57  Tigers Trust                          1           \n",
       "59  Hull Tigers Commercialâ\\200\\231             1           \n",
       "60  Hull Tigers Arabic                    1           \n",
       "61  Andy Dawson Testimonial               1           \n",
       "84  Safehands Nursery at Barnoldswick     1           \n",
       "88  Liv Fox Photography                   1           \n",
       "89  Split Screen Wedding Dreams           1           \n",
       "94  Alex O'Neill Photography              1           \n",
       "95  Pier Fun Casinos Event Management Ltd 1           \n",
       "98  BBC Radio Lancashire                  1           \n",
       "104 Myprotein                             1           \n",
       "105 Althams Travel Todmorden              1           \n",
       "119 Harvey Nichols                        1           \n",
       "121 SEALY MATTRESS                        1           "
      ]
     },
     "metadata": {},
     "output_type": "display_data"
    }
   ],
   "source": [
    "# Viewing the periphery of the network\n",
    "\n",
    "head(page_coreness_df[page_coreness_df$PageCoreness ==\n",
    "                      min(page_coreness_df$PageCoreness), ], 20)"
   ]
  },
  {
   "cell_type": "code",
   "execution_count": 21,
   "id": "144a695a",
   "metadata": {},
   "outputs": [
    {
     "data": {
      "text/html": [
       "<table>\n",
       "<thead><tr><th></th><th scope=col>Name</th><th scope=col>Degree</th></tr></thead>\n",
       "<tbody>\n",
       "\t<tr><th scope=row>22</th><td>Manchester City                 </td><td>109                             </td></tr>\n",
       "\t<tr><th scope=row>24</th><td>Arsenal                         </td><td> 92                             </td></tr>\n",
       "\t<tr><th scope=row>15</th><td>Nike Football                   </td><td> 91                             </td></tr>\n",
       "\t<tr><th scope=row>19</th><td>Sunderland AFC                  </td><td> 91                             </td></tr>\n",
       "\t<tr><th scope=row>25</th><td>Chelsea Football Club           </td><td> 90                             </td></tr>\n",
       "\t<tr><th scope=row>1</th><td>Premier League                  </td><td> 85                             </td></tr>\n",
       "\t<tr><th scope=row>21</th><td>Manchester United               </td><td> 84                             </td></tr>\n",
       "\t<tr><th scope=row>6</th><td>Burnley Football Club           </td><td> 82                             </td></tr>\n",
       "\t<tr><th scope=row>14</th><td>Everton Football Club           </td><td> 65                             </td></tr>\n",
       "\t<tr><th scope=row>23</th><td>Liverpool FC                    </td><td> 59                             </td></tr>\n",
       "\t<tr><th scope=row>17</th><td>Tottenham Hotspur               </td><td> 58                             </td></tr>\n",
       "\t<tr><th scope=row>453</th><td>City in the Community Foundation</td><td> 56                             </td></tr>\n",
       "\t<tr><th scope=row>445</th><td>UEFA Champions League           </td><td> 53                             </td></tr>\n",
       "\t<tr><th scope=row>262</th><td>Wayne Rooney                    </td><td> 52                             </td></tr>\n",
       "\t<tr><th scope=row>26</th><td>Barclays Football               </td><td> 51                             </td></tr>\n",
       "\t<tr><th scope=row>243</th><td>EA SPORTS FIFA                  </td><td> 47                             </td></tr>\n",
       "\t<tr><th scope=row>416</th><td>Marouane Fellaini               </td><td> 47                             </td></tr>\n",
       "\t<tr><th scope=row>558</th><td>adidas Football                 </td><td> 47                             </td></tr>\n",
       "\t<tr><th scope=row>12</th><td>Southampton FC                  </td><td> 45                             </td></tr>\n",
       "\t<tr><th scope=row>20</th><td>Stoke City Football Club        </td><td> 44                             </td></tr>\n",
       "</tbody>\n",
       "</table>\n"
      ],
      "text/latex": [
       "\\begin{tabular}{r|ll}\n",
       "  & Name & Degree\\\\\n",
       "\\hline\n",
       "\t22 & Manchester City                  & 109                             \\\\\n",
       "\t24 & Arsenal                          &  92                             \\\\\n",
       "\t15 & Nike Football                    &  91                             \\\\\n",
       "\t19 & Sunderland AFC                   &  91                             \\\\\n",
       "\t25 & Chelsea Football Club            &  90                             \\\\\n",
       "\t1 & Premier League                   &  85                             \\\\\n",
       "\t21 & Manchester United                &  84                             \\\\\n",
       "\t6 & Burnley Football Club            &  82                             \\\\\n",
       "\t14 & Everton Football Club            &  65                             \\\\\n",
       "\t23 & Liverpool FC                     &  59                             \\\\\n",
       "\t17 & Tottenham Hotspur                &  58                             \\\\\n",
       "\t453 & City in the Community Foundation &  56                             \\\\\n",
       "\t445 & UEFA Champions League            &  53                             \\\\\n",
       "\t262 & Wayne Rooney                     &  52                             \\\\\n",
       "\t26 & Barclays Football                &  51                             \\\\\n",
       "\t243 & EA SPORTS FIFA                   &  47                             \\\\\n",
       "\t416 & Marouane Fellaini                &  47                             \\\\\n",
       "\t558 & adidas Football                  &  47                             \\\\\n",
       "\t12 & Southampton FC                   &  45                             \\\\\n",
       "\t20 & Stoke City Football Club         &  44                             \\\\\n",
       "\\end{tabular}\n"
      ],
      "text/markdown": [
       "\n",
       "| <!--/--> | Name | Degree |\n",
       "|---|---|---|\n",
       "| 22 | Manchester City                  | 109                              |\n",
       "| 24 | Arsenal                          |  92                              |\n",
       "| 15 | Nike Football                    |  91                              |\n",
       "| 19 | Sunderland AFC                   |  91                              |\n",
       "| 25 | Chelsea Football Club            |  90                              |\n",
       "| 1 | Premier League                   |  85                              |\n",
       "| 21 | Manchester United                |  84                              |\n",
       "| 6 | Burnley Football Club            |  82                              |\n",
       "| 14 | Everton Football Club            |  65                              |\n",
       "| 23 | Liverpool FC                     |  59                              |\n",
       "| 17 | Tottenham Hotspur                |  58                              |\n",
       "| 453 | City in the Community Foundation |  56                              |\n",
       "| 445 | UEFA Champions League            |  53                              |\n",
       "| 262 | Wayne Rooney                     |  52                              |\n",
       "| 26 | Barclays Football                |  51                              |\n",
       "| 243 | EA SPORTS FIFA                   |  47                              |\n",
       "| 416 | Marouane Fellaini                |  47                              |\n",
       "| 558 | adidas Football                  |  47                              |\n",
       "| 12 | Southampton FC                   |  45                              |\n",
       "| 20 | Stoke City Football Club         |  44                              |\n",
       "\n"
      ],
      "text/plain": [
       "    Name                             Degree\n",
       "22  Manchester City                  109   \n",
       "24  Arsenal                           92   \n",
       "15  Nike Football                     91   \n",
       "19  Sunderland AFC                    91   \n",
       "25  Chelsea Football Club             90   \n",
       "1   Premier League                    85   \n",
       "21  Manchester United                 84   \n",
       "6   Burnley Football Club             82   \n",
       "14  Everton Football Club             65   \n",
       "23  Liverpool FC                      59   \n",
       "17  Tottenham Hotspur                 58   \n",
       "453 City in the Community Foundation  56   \n",
       "445 UEFA Champions League             53   \n",
       "262 Wayne Rooney                      52   \n",
       "26  Barclays Football                 51   \n",
       "243 EA SPORTS FIFA                    47   \n",
       "416 Marouane Fellaini                 47   \n",
       "558 adidas Football                   47   \n",
       "12  Southampton FC                    45   \n",
       "20  Stoke City Football Club          44   "
      ]
     },
     "metadata": {},
     "output_type": "display_data"
    }
   ],
   "source": [
    "# Degree Centrality\n",
    "\n",
    "degree_plg <- degree(pl_graph, mode = \"total\")\n",
    "degree_plg_df <- data.frame(Name = V(pl_graph)$label,\n",
    "                            Degree = as.vector(degree_plg))\n",
    "degree_plg_df <- degree_plg_df[order(degree_plg_df$Degree,\n",
    "                                     decreasing = TRUE), ]\n",
    "\n",
    "head(degree_plg_df, 20)"
   ]
  },
  {
   "cell_type": "code",
   "execution_count": 22,
   "id": "a313e7a3",
   "metadata": {
    "scrolled": true
   },
   "outputs": [
    {
     "data": {
      "text/html": [
       "<table>\n",
       "<thead><tr><th></th><th scope=col>Name</th><th scope=col>Closeness</th></tr></thead>\n",
       "<tbody>\n",
       "\t<tr><th scope=row>1</th><td>Premier League                       </td><td>0.5340074                            </td></tr>\n",
       "\t<tr><th scope=row>19</th><td>Sunderland AFC                       </td><td>0.4874161                            </td></tr>\n",
       "\t<tr><th scope=row>6</th><td>Burnley Football Club                </td><td>0.4805624                            </td></tr>\n",
       "\t<tr><th scope=row>26</th><td>Barclays Football                    </td><td>0.4723577                            </td></tr>\n",
       "\t<tr><th scope=row>129</th><td>EFL Cup                              </td><td>0.4611111                            </td></tr>\n",
       "\t<tr><th scope=row>366</th><td>606                                  </td><td>0.4469231                            </td></tr>\n",
       "\t<tr><th scope=row>243</th><td>EA SPORTS FIFA                       </td><td>0.4418251                            </td></tr>\n",
       "\t<tr><th scope=row>150</th><td>The Offside Rule (We Get It!) Podcast</td><td>0.4411541                            </td></tr>\n",
       "\t<tr><th scope=row>156</th><td>The H and C News Football Pie League </td><td>0.4365139                            </td></tr>\n",
       "\t<tr><th scope=row>22</th><td>Manchester City                      </td><td>0.4342302                            </td></tr>\n",
       "\t<tr><th scope=row>21</th><td>Manchester United                    </td><td>0.4326136                            </td></tr>\n",
       "\t<tr><th scope=row>183</th><td>Mondogoal                            </td><td>0.4278351                            </td></tr>\n",
       "\t<tr><th scope=row>15</th><td>Nike Football                        </td><td>0.4259531                            </td></tr>\n",
       "\t<tr><th scope=row>24</th><td>Arsenal                              </td><td>0.4234694                            </td></tr>\n",
       "\t<tr><th scope=row>242</th><td>Kitbag                               </td><td>0.4234694                            </td></tr>\n",
       "\t<tr><th scope=row>25</th><td>Chelsea Football Club                </td><td>0.4228530                            </td></tr>\n",
       "\t<tr><th scope=row>559</th><td>Beyond Sport                         </td><td>0.4182865                            </td></tr>\n",
       "\t<tr><th scope=row>14</th><td>Everton Football Club                </td><td>0.4158912                            </td></tr>\n",
       "\t<tr><th scope=row>108</th><td>Prostate Cancer UK                   </td><td>0.4158912                            </td></tr>\n",
       "\t<tr><th scope=row>126</th><td>The Emirates FA Cup                  </td><td>0.4114731                            </td></tr>\n",
       "</tbody>\n",
       "</table>\n"
      ],
      "text/latex": [
       "\\begin{tabular}{r|ll}\n",
       "  & Name & Closeness\\\\\n",
       "\\hline\n",
       "\t1 & Premier League                        & 0.5340074                            \\\\\n",
       "\t19 & Sunderland AFC                        & 0.4874161                            \\\\\n",
       "\t6 & Burnley Football Club                 & 0.4805624                            \\\\\n",
       "\t26 & Barclays Football                     & 0.4723577                            \\\\\n",
       "\t129 & EFL Cup                               & 0.4611111                            \\\\\n",
       "\t366 & 606                                   & 0.4469231                            \\\\\n",
       "\t243 & EA SPORTS FIFA                        & 0.4418251                            \\\\\n",
       "\t150 & The Offside Rule (We Get It!) Podcast & 0.4411541                            \\\\\n",
       "\t156 & The H and C News Football Pie League  & 0.4365139                            \\\\\n",
       "\t22 & Manchester City                       & 0.4342302                            \\\\\n",
       "\t21 & Manchester United                     & 0.4326136                            \\\\\n",
       "\t183 & Mondogoal                             & 0.4278351                            \\\\\n",
       "\t15 & Nike Football                         & 0.4259531                            \\\\\n",
       "\t24 & Arsenal                               & 0.4234694                            \\\\\n",
       "\t242 & Kitbag                                & 0.4234694                            \\\\\n",
       "\t25 & Chelsea Football Club                 & 0.4228530                            \\\\\n",
       "\t559 & Beyond Sport                          & 0.4182865                            \\\\\n",
       "\t14 & Everton Football Club                 & 0.4158912                            \\\\\n",
       "\t108 & Prostate Cancer UK                    & 0.4158912                            \\\\\n",
       "\t126 & The Emirates FA Cup                   & 0.4114731                            \\\\\n",
       "\\end{tabular}\n"
      ],
      "text/markdown": [
       "\n",
       "| <!--/--> | Name | Closeness |\n",
       "|---|---|---|\n",
       "| 1 | Premier League                        | 0.5340074                             |\n",
       "| 19 | Sunderland AFC                        | 0.4874161                             |\n",
       "| 6 | Burnley Football Club                 | 0.4805624                             |\n",
       "| 26 | Barclays Football                     | 0.4723577                             |\n",
       "| 129 | EFL Cup                               | 0.4611111                             |\n",
       "| 366 | 606                                   | 0.4469231                             |\n",
       "| 243 | EA SPORTS FIFA                        | 0.4418251                             |\n",
       "| 150 | The Offside Rule (We Get It!) Podcast | 0.4411541                             |\n",
       "| 156 | The H and C News Football Pie League  | 0.4365139                             |\n",
       "| 22 | Manchester City                       | 0.4342302                             |\n",
       "| 21 | Manchester United                     | 0.4326136                             |\n",
       "| 183 | Mondogoal                             | 0.4278351                             |\n",
       "| 15 | Nike Football                         | 0.4259531                             |\n",
       "| 24 | Arsenal                               | 0.4234694                             |\n",
       "| 242 | Kitbag                                | 0.4234694                             |\n",
       "| 25 | Chelsea Football Club                 | 0.4228530                             |\n",
       "| 559 | Beyond Sport                          | 0.4182865                             |\n",
       "| 14 | Everton Football Club                 | 0.4158912                             |\n",
       "| 108 | Prostate Cancer UK                    | 0.4158912                             |\n",
       "| 126 | The Emirates FA Cup                   | 0.4114731                             |\n",
       "\n"
      ],
      "text/plain": [
       "    Name                                  Closeness\n",
       "1   Premier League                        0.5340074\n",
       "19  Sunderland AFC                        0.4874161\n",
       "6   Burnley Football Club                 0.4805624\n",
       "26  Barclays Football                     0.4723577\n",
       "129 EFL Cup                               0.4611111\n",
       "366 606                                   0.4469231\n",
       "243 EA SPORTS FIFA                        0.4418251\n",
       "150 The Offside Rule (We Get It!) Podcast 0.4411541\n",
       "156 The H and C News Football Pie League  0.4365139\n",
       "22  Manchester City                       0.4342302\n",
       "21  Manchester United                     0.4326136\n",
       "183 Mondogoal                             0.4278351\n",
       "15  Nike Football                         0.4259531\n",
       "24  Arsenal                               0.4234694\n",
       "242 Kitbag                                0.4234694\n",
       "25  Chelsea Football Club                 0.4228530\n",
       "559 Beyond Sport                          0.4182865\n",
       "14  Everton Football Club                 0.4158912\n",
       "108 Prostate Cancer UK                    0.4158912\n",
       "126 The Emirates FA Cup                   0.4114731"
      ]
     },
     "metadata": {},
     "output_type": "display_data"
    }
   ],
   "source": [
    "# Closeness Centrality\n",
    "\n",
    "closeness_plg <- closeness(pl_graph, mode = \"all\", \n",
    "                           normalized = TRUE)\n",
    "closeness_plg_df <- data.frame(Name = V(pl_graph)$label,\n",
    "                               Closeness = as.vector(closeness_plg))\n",
    "closeness_plg_df <- closeness_plg_df[order(\n",
    "    closeness_plg_df$Closeness, decreasing = TRUE), ]\n",
    "\n",
    "head(closeness_plg_df, 20)"
   ]
  },
  {
   "cell_type": "code",
   "execution_count": 23,
   "id": "6471757d",
   "metadata": {},
   "outputs": [
    {
     "data": {
      "text/html": [
       "<table>\n",
       "<thead><tr><th></th><th scope=col>Name</th><th scope=col>Betweenness</th></tr></thead>\n",
       "<tbody>\n",
       "\t<tr><th scope=row>1</th><td>Premier League          </td><td>96082.154               </td></tr>\n",
       "\t<tr><th scope=row>22</th><td>Manchester City         </td><td>32242.448               </td></tr>\n",
       "\t<tr><th scope=row>19</th><td>Sunderland AFC          </td><td>24583.192               </td></tr>\n",
       "\t<tr><th scope=row>24</th><td>Arsenal                 </td><td>22258.680               </td></tr>\n",
       "\t<tr><th scope=row>6</th><td>Burnley Football Club   </td><td>21872.563               </td></tr>\n",
       "\t<tr><th scope=row>15</th><td>Nike Football           </td><td>21232.926               </td></tr>\n",
       "\t<tr><th scope=row>21</th><td>Manchester United       </td><td>19781.410               </td></tr>\n",
       "\t<tr><th scope=row>243</th><td>EA SPORTS FIFA          </td><td>19013.004               </td></tr>\n",
       "\t<tr><th scope=row>25</th><td>Chelsea Football Club   </td><td>18181.458               </td></tr>\n",
       "\t<tr><th scope=row>2</th><td>TAG Heuer               </td><td>16698.681               </td></tr>\n",
       "\t<tr><th scope=row>23</th><td>Liverpool FC            </td><td>15675.171               </td></tr>\n",
       "\t<tr><th scope=row>14</th><td>Everton Football Club   </td><td>15651.433               </td></tr>\n",
       "\t<tr><th scope=row>26</th><td>Barclays Football       </td><td>15555.314               </td></tr>\n",
       "\t<tr><th scope=row>17</th><td>Tottenham Hotspur       </td><td>14324.345               </td></tr>\n",
       "\t<tr><th scope=row>20</th><td>Stoke City Football Club</td><td>13359.269               </td></tr>\n",
       "\t<tr><th scope=row>12</th><td>Southampton FC          </td><td>12209.346               </td></tr>\n",
       "\t<tr><th scope=row>13</th><td>Love GREAT Britain      </td><td>11827.467               </td></tr>\n",
       "\t<tr><th scope=row>27</th><td>EA SPORTS               </td><td>10818.360               </td></tr>\n",
       "\t<tr><th scope=row>558</th><td>adidas Football         </td><td> 9535.279               </td></tr>\n",
       "\t<tr><th scope=row>262</th><td>Wayne Rooney            </td><td> 9311.070               </td></tr>\n",
       "</tbody>\n",
       "</table>\n"
      ],
      "text/latex": [
       "\\begin{tabular}{r|ll}\n",
       "  & Name & Betweenness\\\\\n",
       "\\hline\n",
       "\t1 & Premier League           & 96082.154               \\\\\n",
       "\t22 & Manchester City          & 32242.448               \\\\\n",
       "\t19 & Sunderland AFC           & 24583.192               \\\\\n",
       "\t24 & Arsenal                  & 22258.680               \\\\\n",
       "\t6 & Burnley Football Club    & 21872.563               \\\\\n",
       "\t15 & Nike Football            & 21232.926               \\\\\n",
       "\t21 & Manchester United        & 19781.410               \\\\\n",
       "\t243 & EA SPORTS FIFA           & 19013.004               \\\\\n",
       "\t25 & Chelsea Football Club    & 18181.458               \\\\\n",
       "\t2 & TAG Heuer                & 16698.681               \\\\\n",
       "\t23 & Liverpool FC             & 15675.171               \\\\\n",
       "\t14 & Everton Football Club    & 15651.433               \\\\\n",
       "\t26 & Barclays Football        & 15555.314               \\\\\n",
       "\t17 & Tottenham Hotspur        & 14324.345               \\\\\n",
       "\t20 & Stoke City Football Club & 13359.269               \\\\\n",
       "\t12 & Southampton FC           & 12209.346               \\\\\n",
       "\t13 & Love GREAT Britain       & 11827.467               \\\\\n",
       "\t27 & EA SPORTS                & 10818.360               \\\\\n",
       "\t558 & adidas Football          &  9535.279               \\\\\n",
       "\t262 & Wayne Rooney             &  9311.070               \\\\\n",
       "\\end{tabular}\n"
      ],
      "text/markdown": [
       "\n",
       "| <!--/--> | Name | Betweenness |\n",
       "|---|---|---|\n",
       "| 1 | Premier League           | 96082.154                |\n",
       "| 22 | Manchester City          | 32242.448                |\n",
       "| 19 | Sunderland AFC           | 24583.192                |\n",
       "| 24 | Arsenal                  | 22258.680                |\n",
       "| 6 | Burnley Football Club    | 21872.563                |\n",
       "| 15 | Nike Football            | 21232.926                |\n",
       "| 21 | Manchester United        | 19781.410                |\n",
       "| 243 | EA SPORTS FIFA           | 19013.004                |\n",
       "| 25 | Chelsea Football Club    | 18181.458                |\n",
       "| 2 | TAG Heuer                | 16698.681                |\n",
       "| 23 | Liverpool FC             | 15675.171                |\n",
       "| 14 | Everton Football Club    | 15651.433                |\n",
       "| 26 | Barclays Football        | 15555.314                |\n",
       "| 17 | Tottenham Hotspur        | 14324.345                |\n",
       "| 20 | Stoke City Football Club | 13359.269                |\n",
       "| 12 | Southampton FC           | 12209.346                |\n",
       "| 13 | Love GREAT Britain       | 11827.467                |\n",
       "| 27 | EA SPORTS                | 10818.360                |\n",
       "| 558 | adidas Football          |  9535.279                |\n",
       "| 262 | Wayne Rooney             |  9311.070                |\n",
       "\n"
      ],
      "text/plain": [
       "    Name                     Betweenness\n",
       "1   Premier League           96082.154  \n",
       "22  Manchester City          32242.448  \n",
       "19  Sunderland AFC           24583.192  \n",
       "24  Arsenal                  22258.680  \n",
       "6   Burnley Football Club    21872.563  \n",
       "15  Nike Football            21232.926  \n",
       "21  Manchester United        19781.410  \n",
       "243 EA SPORTS FIFA           19013.004  \n",
       "25  Chelsea Football Club    18181.458  \n",
       "2   TAG Heuer                16698.681  \n",
       "23  Liverpool FC             15675.171  \n",
       "14  Everton Football Club    15651.433  \n",
       "26  Barclays Football        15555.314  \n",
       "17  Tottenham Hotspur        14324.345  \n",
       "20  Stoke City Football Club 13359.269  \n",
       "12  Southampton FC           12209.346  \n",
       "13  Love GREAT Britain       11827.467  \n",
       "27  EA SPORTS                10818.360  \n",
       "558 adidas Football           9535.279  \n",
       "262 Wayne Rooney              9311.070  "
      ]
     },
     "metadata": {},
     "output_type": "display_data"
    }
   ],
   "source": [
    "# Betweenness Centrality\n",
    "\n",
    "betweenness_plg <- betweenness(pl_graph)\n",
    "betweenness_plg_df <- data.frame(Name = V(pl_graph)$label,\n",
    "                                 Betweenness = as.vector(\n",
    "                                 betweenness_plg))\n",
    "betweenness_plg_df <- betweenness_plg_df[order(\n",
    "  betweenness_plg_df$Betweenness, decreasing = TRUE), ]\n",
    "\n",
    "head(betweenness_plg_df, 20)"
   ]
  },
  {
   "cell_type": "code",
   "execution_count": 24,
   "id": "e6670962",
   "metadata": {},
   "outputs": [
    {
     "data": {
      "image/png": "[encoded data removed]",
      "text/plain": [
       "plot without title"
      ]
     },
     "metadata": {},
     "output_type": "display_data"
    }
   ],
   "source": [
    "## Correlation Plots\n",
    "\n",
    "plg_df <- data.frame(degree_plg, closeness_plg, \n",
    "                     betweenness_plg)\n",
    "\n",
    "# Graph 1 - Degree centrality vs. Closeness centrality\n",
    "\n",
    "rsq <- format(cor(degree_plg, closeness_plg) ^ 2, digits = 3)\n",
    "corr_plot <- ggplot(plg_df, aes(x = degree_plg,\n",
    "                                y = closeness_plg)) +\n",
    "             theme_bw() +\n",
    "             geom_jitter(alpha = 1/2) +\n",
    "             scale_y_log10() +\n",
    "             labs(x = \"Degree\", y = \"Closeness\") +\n",
    "             annotate(\"text\", label = paste(\"R-sq = \", rsq),\n",
    "                      x = +Inf, y = 1, hjust = 1)\n",
    "\n",
    "corr_plot"
   ]
  },
  {
   "cell_type": "code",
   "execution_count": 26,
   "id": "d8bd2cac",
   "metadata": {},
   "outputs": [
    {
     "data": {
      "text/html": [
       "<table>\n",
       "<thead><tr><th></th><th scope=col>Name</th><th scope=col>EVcentrality</th></tr></thead>\n",
       "<tbody>\n",
       "\t<tr><th scope=row>1</th><td>Premier League       </td><td>1.0000000            </td></tr>\n",
       "\t<tr><th scope=row>21</th><td>Manchester United    </td><td>0.9756104            </td></tr>\n",
       "\t<tr><th scope=row>22</th><td>Manchester City      </td><td>0.9193786            </td></tr>\n",
       "\t<tr><th scope=row>24</th><td>Arsenal              </td><td>0.7601505            </td></tr>\n",
       "\t<tr><th scope=row>262</th><td>Wayne Rooney         </td><td>0.7497510            </td></tr>\n",
       "\t<tr><th scope=row>15</th><td>Nike Football        </td><td>0.7217245            </td></tr>\n",
       "\t<tr><th scope=row>25</th><td>Chelsea Football Club</td><td>0.6871378            </td></tr>\n",
       "\t<tr><th scope=row>19</th><td>Sunderland AFC       </td><td>0.6842139            </td></tr>\n",
       "\t<tr><th scope=row>445</th><td>UEFA Champions League</td><td>0.6432694            </td></tr>\n",
       "\t<tr><th scope=row>6</th><td>Burnley Football Club</td><td>0.6300486            </td></tr>\n",
       "</tbody>\n",
       "</table>\n"
      ],
      "text/latex": [
       "\\begin{tabular}{r|ll}\n",
       "  & Name & EVcentrality\\\\\n",
       "\\hline\n",
       "\t1 & Premier League        & 1.0000000            \\\\\n",
       "\t21 & Manchester United     & 0.9756104            \\\\\n",
       "\t22 & Manchester City       & 0.9193786            \\\\\n",
       "\t24 & Arsenal               & 0.7601505            \\\\\n",
       "\t262 & Wayne Rooney          & 0.7497510            \\\\\n",
       "\t15 & Nike Football         & 0.7217245            \\\\\n",
       "\t25 & Chelsea Football Club & 0.6871378            \\\\\n",
       "\t19 & Sunderland AFC        & 0.6842139            \\\\\n",
       "\t445 & UEFA Champions League & 0.6432694            \\\\\n",
       "\t6 & Burnley Football Club & 0.6300486            \\\\\n",
       "\\end{tabular}\n"
      ],
      "text/markdown": [
       "\n",
       "| <!--/--> | Name | EVcentrality |\n",
       "|---|---|---|\n",
       "| 1 | Premier League        | 1.0000000             |\n",
       "| 21 | Manchester United     | 0.9756104             |\n",
       "| 22 | Manchester City       | 0.9193786             |\n",
       "| 24 | Arsenal               | 0.7601505             |\n",
       "| 262 | Wayne Rooney          | 0.7497510             |\n",
       "| 15 | Nike Football         | 0.7217245             |\n",
       "| 25 | Chelsea Football Club | 0.6871378             |\n",
       "| 19 | Sunderland AFC        | 0.6842139             |\n",
       "| 445 | UEFA Champions League | 0.6432694             |\n",
       "| 6 | Burnley Football Club | 0.6300486             |\n",
       "\n"
      ],
      "text/plain": [
       "    Name                  EVcentrality\n",
       "1   Premier League        1.0000000   \n",
       "21  Manchester United     0.9756104   \n",
       "22  Manchester City       0.9193786   \n",
       "24  Arsenal               0.7601505   \n",
       "262 Wayne Rooney          0.7497510   \n",
       "15  Nike Football         0.7217245   \n",
       "25  Chelsea Football Club 0.6871378   \n",
       "19  Sunderland AFC        0.6842139   \n",
       "445 UEFA Champions League 0.6432694   \n",
       "6   Burnley Football Club 0.6300486   "
      ]
     },
     "metadata": {},
     "output_type": "display_data"
    }
   ],
   "source": [
    "evcentrality_plg <- eigen_centrality(pl_graph)$vector\n",
    "evcentrality_plg_df <- data.frame(Name = V(pl_graph)$label,\n",
    "                                  EVcentrality = as.vector(evcentrality_plg))\n",
    "evcentrality_plg_df <- evcentrality_plg_df[order(evcentrality_plg_df$EVcentrality, decreasing = TRUE), ]\n",
    "(head(evcentrality_plg_df, 10))\n",
    "# Eigenvector Centrality"
   ]
  },
  {
   "cell_type": "code",
   "execution_count": 28,
   "id": "d731d84a",
   "metadata": {},
   "outputs": [
    {
     "data": {
      "text/html": [
       "<table>\n",
       "<thead><tr><th></th><th scope=col>Name</th><th scope=col>PageRank</th></tr></thead>\n",
       "<tbody>\n",
       "\t<tr><th scope=row>15</th><td>Nike Football            </td><td>0.027226678              </td></tr>\n",
       "\t<tr><th scope=row>24</th><td>Arsenal                  </td><td>0.019968333              </td></tr>\n",
       "\t<tr><th scope=row>21</th><td>Manchester United        </td><td>0.018352130              </td></tr>\n",
       "\t<tr><th scope=row>25</th><td>Chelsea Football Club    </td><td>0.017139476              </td></tr>\n",
       "\t<tr><th scope=row>22</th><td>Manchester City          </td><td>0.013780236              </td></tr>\n",
       "\t<tr><th scope=row>558</th><td>adidas Football          </td><td>0.013302024              </td></tr>\n",
       "\t<tr><th scope=row>245</th><td>PSG - Paris Saint-Germain</td><td>0.011784058              </td></tr>\n",
       "\t<tr><th scope=row>1</th><td>Premier League           </td><td>0.011723774              </td></tr>\n",
       "\t<tr><th scope=row>445</th><td>UEFA Champions League    </td><td>0.009690068              </td></tr>\n",
       "\t<tr><th scope=row>264</th><td>Nike                     </td><td>0.008748710              </td></tr>\n",
       "</tbody>\n",
       "</table>\n"
      ],
      "text/latex": [
       "\\begin{tabular}{r|ll}\n",
       "  & Name & PageRank\\\\\n",
       "\\hline\n",
       "\t15 & Nike Football             & 0.027226678              \\\\\n",
       "\t24 & Arsenal                   & 0.019968333              \\\\\n",
       "\t21 & Manchester United         & 0.018352130              \\\\\n",
       "\t25 & Chelsea Football Club     & 0.017139476              \\\\\n",
       "\t22 & Manchester City           & 0.013780236              \\\\\n",
       "\t558 & adidas Football           & 0.013302024              \\\\\n",
       "\t245 & PSG - Paris Saint-Germain & 0.011784058              \\\\\n",
       "\t1 & Premier League            & 0.011723774              \\\\\n",
       "\t445 & UEFA Champions League     & 0.009690068              \\\\\n",
       "\t264 & Nike                      & 0.008748710              \\\\\n",
       "\\end{tabular}\n"
      ],
      "text/markdown": [
       "\n",
       "| <!--/--> | Name | PageRank |\n",
       "|---|---|---|\n",
       "| 15 | Nike Football             | 0.027226678               |\n",
       "| 24 | Arsenal                   | 0.019968333               |\n",
       "| 21 | Manchester United         | 0.018352130               |\n",
       "| 25 | Chelsea Football Club     | 0.017139476               |\n",
       "| 22 | Manchester City           | 0.013780236               |\n",
       "| 558 | adidas Football           | 0.013302024               |\n",
       "| 245 | PSG - Paris Saint-Germain | 0.011784058               |\n",
       "| 1 | Premier League            | 0.011723774               |\n",
       "| 445 | UEFA Champions League     | 0.009690068               |\n",
       "| 264 | Nike                      | 0.008748710               |\n",
       "\n"
      ],
      "text/plain": [
       "    Name                      PageRank   \n",
       "15  Nike Football             0.027226678\n",
       "24  Arsenal                   0.019968333\n",
       "21  Manchester United         0.018352130\n",
       "25  Chelsea Football Club     0.017139476\n",
       "22  Manchester City           0.013780236\n",
       "558 adidas Football           0.013302024\n",
       "245 PSG - Paris Saint-Germain 0.011784058\n",
       "1   Premier League            0.011723774\n",
       "445 UEFA Champions League     0.009690068\n",
       "264 Nike                      0.008748710"
      ]
     },
     "metadata": {},
     "output_type": "display_data"
    }
   ],
   "source": [
    "pagerank_plg <- page_rank(pl_graph)$vector\n",
    "pagerank_plg_df <- data.frame(Name = V(pl_graph)$label, \n",
    "                              PageRank = as.vector(pagerank_plg))\n",
    "pagerank_plg_df <- pagerank_plg_df[order(pagerank_plg_df$PageRank, decreasing = TRUE), ]\n",
    "head(pagerank_plg_df, 10)\n",
    "# PageRank"
   ]
  },
  {
   "cell_type": "code",
   "execution_count": 30,
   "id": "9024fbc8",
   "metadata": {},
   "outputs": [
    {
     "data": {
      "text/html": [
       "<table>\n",
       "<thead><tr><th></th><th scope=col>Name</th><th scope=col>AuthScore</th></tr></thead>\n",
       "<tbody>\n",
       "\t<tr><th scope=row>21</th><td>Manchester United         </td><td>1.0000000                 </td></tr>\n",
       "\t<tr><th scope=row>24</th><td>Arsenal                   </td><td>0.9619702                 </td></tr>\n",
       "\t<tr><th scope=row>1</th><td>Premier League            </td><td>0.9178324                 </td></tr>\n",
       "\t<tr><th scope=row>22</th><td>Manchester City           </td><td>0.8847690                 </td></tr>\n",
       "\t<tr><th scope=row>25</th><td>Chelsea Football Club     </td><td>0.8299846                 </td></tr>\n",
       "\t<tr><th scope=row>14</th><td>Everton Football Club     </td><td>0.6517946                 </td></tr>\n",
       "\t<tr><th scope=row>17</th><td>Tottenham Hotspur         </td><td>0.6220038                 </td></tr>\n",
       "\t<tr><th scope=row>23</th><td>Liverpool FC              </td><td>0.5799794                 </td></tr>\n",
       "\t<tr><th scope=row>459</th><td>England football team     </td><td>0.5277520                 </td></tr>\n",
       "\t<tr><th scope=row>18</th><td>Swansea City Football Club</td><td>0.4647856                 </td></tr>\n",
       "</tbody>\n",
       "</table>\n"
      ],
      "text/latex": [
       "\\begin{tabular}{r|ll}\n",
       "  & Name & AuthScore\\\\\n",
       "\\hline\n",
       "\t21 & Manchester United          & 1.0000000                 \\\\\n",
       "\t24 & Arsenal                    & 0.9619702                 \\\\\n",
       "\t1 & Premier League             & 0.9178324                 \\\\\n",
       "\t22 & Manchester City            & 0.8847690                 \\\\\n",
       "\t25 & Chelsea Football Club      & 0.8299846                 \\\\\n",
       "\t14 & Everton Football Club      & 0.6517946                 \\\\\n",
       "\t17 & Tottenham Hotspur          & 0.6220038                 \\\\\n",
       "\t23 & Liverpool FC               & 0.5799794                 \\\\\n",
       "\t459 & England football team      & 0.5277520                 \\\\\n",
       "\t18 & Swansea City Football Club & 0.4647856                 \\\\\n",
       "\\end{tabular}\n"
      ],
      "text/markdown": [
       "\n",
       "| <!--/--> | Name | AuthScore |\n",
       "|---|---|---|\n",
       "| 21 | Manchester United          | 1.0000000                  |\n",
       "| 24 | Arsenal                    | 0.9619702                  |\n",
       "| 1 | Premier League             | 0.9178324                  |\n",
       "| 22 | Manchester City            | 0.8847690                  |\n",
       "| 25 | Chelsea Football Club      | 0.8299846                  |\n",
       "| 14 | Everton Football Club      | 0.6517946                  |\n",
       "| 17 | Tottenham Hotspur          | 0.6220038                  |\n",
       "| 23 | Liverpool FC               | 0.5799794                  |\n",
       "| 459 | England football team      | 0.5277520                  |\n",
       "| 18 | Swansea City Football Club | 0.4647856                  |\n",
       "\n"
      ],
      "text/plain": [
       "    Name                       AuthScore\n",
       "21  Manchester United          1.0000000\n",
       "24  Arsenal                    0.9619702\n",
       "1   Premier League             0.9178324\n",
       "22  Manchester City            0.8847690\n",
       "25  Chelsea Football Club      0.8299846\n",
       "14  Everton Football Club      0.6517946\n",
       "17  Tottenham Hotspur          0.6220038\n",
       "23  Liverpool FC               0.5799794\n",
       "459 England football team      0.5277520\n",
       "18  Swansea City Football Club 0.4647856"
      ]
     },
     "metadata": {},
     "output_type": "display_data"
    }
   ],
   "source": [
    "hits_plg <- authority_score(pl_graph)$vector\n",
    "hits_plg_df <- data.frame(Name = V(pl_graph)$label,\n",
    "                          AuthScore = as.vector(hits_plg))\n",
    "hits_plg_df <- hits_plg_df[order(hits_plg_df$AuthScore, decreasing = TRUE), ]\n",
    "head(hits_plg_df, 10)"
   ]
  },
  {
   "cell_type": "code",
   "execution_count": 31,
   "id": "8da21ef1",
   "metadata": {},
   "outputs": [
    {
     "data": {
      "text/plain": [
       "+ 19/582 vertices, from cabf22d:\n",
       " [1]  26 126 185 186 187 188 189 190 191 192 193 194 195 196 197 198 199 200 201"
      ]
     },
     "metadata": {},
     "output_type": "display_data"
    }
   ],
   "source": [
    "pl_neighbours <- neighbors(pl_graph, v = which(V(pl_graph)$label == \"Southampton FC\"))\n",
    "pl_neighbours"
   ]
  },
  {
   "cell_type": "code",
   "execution_count": 32,
   "id": "9a422263",
   "metadata": {},
   "outputs": [
    {
     "data": {
      "text/html": [
       "<ol class=list-inline>\n",
       "\t<li>'Barclays Football'</li>\n",
       "\t<li>'The Emirates FA Cup'</li>\n",
       "\t<li>'JÃ©rÃ©my Pied'</li>\n",
       "\t<li>'Virgin Media'</li>\n",
       "\t<li>'Under Armour (GB, IE)'</li>\n",
       "\t<li>'Radhi JaÃ¯di'</li>\n",
       "\t<li>'Oriol Romeu Vidal'</li>\n",
       "\t<li>'NIX Communications Group'</li>\n",
       "\t<li>'JosÃ© Fonte'</li>\n",
       "\t<li>'OctaFX'</li>\n",
       "\t<li>'Florin Gardos'</li>\n",
       "\t<li>'Harrison Reed'</li>\n",
       "\t<li>'Ryan Bertrand'</li>\n",
       "\t<li>'Garmin'</li>\n",
       "\t<li>'James Ward-Prowse'</li>\n",
       "\t<li>'Benali\\'s Big Race'</li>\n",
       "\t<li>'Southampton Solent University - Official'</li>\n",
       "\t<li>'Sparsholt Football Academy'</li>\n",
       "\t<li>'Saints Foundation'</li>\n",
       "</ol>\n"
      ],
      "text/latex": [
       "\\begin{enumerate*}\n",
       "\\item 'Barclays Football'\n",
       "\\item 'The Emirates FA Cup'\n",
       "\\item 'JÃ©rÃ©my Pied'\n",
       "\\item 'Virgin Media'\n",
       "\\item 'Under Armour (GB, IE)'\n",
       "\\item 'Radhi JaÃ¯di'\n",
       "\\item 'Oriol Romeu Vidal'\n",
       "\\item 'NIX Communications Group'\n",
       "\\item 'JosÃ© Fonte'\n",
       "\\item 'OctaFX'\n",
       "\\item 'Florin Gardos'\n",
       "\\item 'Harrison Reed'\n",
       "\\item 'Ryan Bertrand'\n",
       "\\item 'Garmin'\n",
       "\\item 'James Ward-Prowse'\n",
       "\\item 'Benali\\textbackslash{}'s Big Race'\n",
       "\\item 'Southampton Solent University - Official'\n",
       "\\item 'Sparsholt Football Academy'\n",
       "\\item 'Saints Foundation'\n",
       "\\end{enumerate*}\n"
      ],
      "text/markdown": [
       "1. 'Barclays Football'\n",
       "2. 'The Emirates FA Cup'\n",
       "3. 'JÃ©rÃ©my Pied'\n",
       "4. 'Virgin Media'\n",
       "5. 'Under Armour (GB, IE)'\n",
       "6. 'Radhi JaÃ¯di'\n",
       "7. 'Oriol Romeu Vidal'\n",
       "8. 'NIX Communications Group'\n",
       "9. 'JosÃ© Fonte'\n",
       "10. 'OctaFX'\n",
       "11. 'Florin Gardos'\n",
       "12. 'Harrison Reed'\n",
       "13. 'Ryan Bertrand'\n",
       "14. 'Garmin'\n",
       "15. 'James Ward-Prowse'\n",
       "16. 'Benali\\'s Big Race'\n",
       "17. 'Southampton Solent University - Official'\n",
       "18. 'Sparsholt Football Academy'\n",
       "19. 'Saints Foundation'\n",
       "\n",
       "\n"
      ],
      "text/plain": [
       " [1] \"Barclays Football\"                       \n",
       " [2] \"The Emirates FA Cup\"                     \n",
       " [3] \"JÃ©rÃ©my Pied\"                           \n",
       " [4] \"Virgin Media\"                            \n",
       " [5] \"Under Armour (GB, IE)\"                   \n",
       " [6] \"Radhi JaÃ¯di\"                            \n",
       " [7] \"Oriol Romeu Vidal\"                       \n",
       " [8] \"NIX Communications Group\"                \n",
       " [9] \"JosÃ© Fonte\"                             \n",
       "[10] \"OctaFX\"                                  \n",
       "[11] \"Florin Gardos\"                           \n",
       "[12] \"Harrison Reed\"                           \n",
       "[13] \"Ryan Bertrand\"                           \n",
       "[14] \"Garmin\"                                  \n",
       "[15] \"James Ward-Prowse\"                       \n",
       "[16] \"Benali's Big Race\"                       \n",
       "[17] \"Southampton Solent University - Official\"\n",
       "[18] \"Sparsholt Football Academy\"              \n",
       "[19] \"Saints Foundation\"                       "
      ]
     },
     "metadata": {},
     "output_type": "display_data"
    }
   ],
   "source": [
    "pl_neighbours$label"
   ]
  },
  {
   "cell_type": "code",
   "execution_count": 33,
   "id": "4448c2b2",
   "metadata": {},
   "outputs": [
    {
     "data": {
      "text/html": [
       "10"
      ],
      "text/latex": [
       "10"
      ],
      "text/markdown": [
       "10"
      ],
      "text/plain": [
       "[1] 10"
      ]
     },
     "metadata": {},
     "output_type": "display_data"
    }
   ],
   "source": [
    "## Get communities / clusters\n",
    "# cliques use different sizes here and experiment\n",
    "clique_num(pl_graph)"
   ]
  },
  {
   "cell_type": "code",
   "execution_count": 34,
   "id": "b4d33f2b",
   "metadata": {},
   "outputs": [
    {
     "data": {
      "text/html": [
       "2"
      ],
      "text/latex": [
       "2"
      ],
      "text/markdown": [
       "2"
      ],
      "text/plain": [
       "[1] 2"
      ]
     },
     "metadata": {},
     "output_type": "display_data"
    }
   ],
   "source": [
    "count_max_cliques(pl_graph, min = 10, max = 10)"
   ]
  },
  {
   "cell_type": "code",
   "execution_count": 35,
   "id": "729c702a",
   "metadata": {},
   "outputs": [],
   "source": [
    "clique_list <- cliques(pl_graph, min = 10, max = 10)"
   ]
  },
  {
   "cell_type": "code",
   "execution_count": 36,
   "id": "3a6e1b7b",
   "metadata": {},
   "outputs": [
    {
     "name": "stdout",
     "output_type": "stream",
     "text": [
      " [1] \"Manchester United\"            \"Wayne Rooney\"                \n",
      " [3] \"Juan Mata\"                    \"Bastian Schweinsteiger\"      \n",
      " [5] \"David De Gea\"                 \"Luke Shaw\"                   \n",
      " [7] \"Daley Blind\"                  \"Chevrolet FC\"                \n",
      " [9] \"Marouane Fellaini\"            \"Manchester United Foundation\"\n",
      "\n",
      "\n",
      " [1] \"Manchester United\"            \"Adnan Januzaj\"               \n",
      " [3] \"Wayne Rooney\"                 \"Juan Mata\"                   \n",
      " [5] \"Bastian Schweinsteiger\"       \"David De Gea\"                \n",
      " [7] \"Luke Shaw\"                    \"Daley Blind\"                 \n",
      " [9] \"Marouane Fellaini\"            \"Manchester United Foundation\"\n",
      "\n",
      "\n"
     ]
    }
   ],
   "source": [
    "for (clique in clique_list) {\n",
    "  print(clique$label)\n",
    "  cat('\\n\\n')\n",
    "}"
   ]
  },
  {
   "cell_type": "code",
   "execution_count": 37,
   "id": "5d3abe9b",
   "metadata": {},
   "outputs": [],
   "source": [
    "# filtering graph to get important nodes based on degree\n",
    "degrees <- degree(pl_graph, mode = \"total\")\n",
    "degrees_df <- data.frame(ID = V(pl_graph)$id,\n",
    "                         Name = V(pl_graph)$label,\n",
    "                         Degree = as.vector(degree_plg))\n",
    "ids_to_remove <- degrees_df[degrees_df$Degree < 30, c('ID')]\n",
    "ids_to_remove <- ids_to_remove / 10\n",
    "filtered_pl_graph <- delete.vertices(pl_graph, ids_to_remove)\n",
    "fplg_undirected <- as.undirected(filtered_pl_graph)"
   ]
  },
  {
   "cell_type": "code",
   "execution_count": 38,
   "id": "b90fb2d6",
   "metadata": {},
   "outputs": [],
   "source": [
    "# Fast greedy clustering\n",
    "fgc <- cluster_fast_greedy(fplg_undirected)\n",
    "layout <- layout_with_fr(fplg_undirected,\n",
    "                         niter = 500, \n",
    "                         start.temp = 5.744)\n",
    "communities <- data.frame(layout)\n",
    "names(communities) <- c(\"x\", \"y\")\n",
    "communities$cluster <- factor(fgc$membership)\n",
    "communities$name <- V(fplg_undirected)$label"
   ]
  },
  {
   "cell_type": "code",
   "execution_count": 39,
   "id": "653d7563",
   "metadata": {},
   "outputs": [
    {
     "data": {
      "text/plain": [
       "\n",
       " 1  2  3 \n",
       "15 10 10 "
      ]
     },
     "metadata": {},
     "output_type": "display_data"
    }
   ],
   "source": [
    "# get total pages in each cluster\n",
    "table(communities$cluster)"
   ]
  },
  {
   "cell_type": "code",
   "execution_count": 40,
   "id": "a4d93cdc",
   "metadata": {},
   "outputs": [
    {
     "data": {
      "image/png": "[encoded data removed]",
      "text/plain": [
       "plot without title"
      ]
     },
     "metadata": {},
     "output_type": "display_data"
    }
   ],
   "source": [
    "# get page names in each cluster\n",
    "community_groups <- unlist(lapply(groups(fgc),\n",
    "                                  function(item) {\n",
    "                                    pages <- communities$name[item]\n",
    "                                    i <- 1; \n",
    "                                    lim <- 4;\n",
    "                                    s <- \"\"\n",
    "                                    while(i <= length(pages)) {\n",
    "                                      start = i\n",
    "                                      end = min((i + lim - 1), length(pages))\n",
    "                                      s <- paste(s, paste(pages[start:end], collapse = \", \"))\n",
    "                                      s <- paste(s, \"\\n\")\n",
    "                                      i = i + lim\n",
    "                                    }\n",
    "                                    return(substr(s, 1, (nchar(s) - 2)))\n",
    "                                  }))\n",
    "grid.table(community_groups)"
   ]
  },
  {
   "cell_type": "code",
   "execution_count": 41,
   "id": "6f06834d",
   "metadata": {},
   "outputs": [
    {
     "data": {
      "text/html": [
       "0.291728303747535"
      ],
      "text/latex": [
       "0.291728303747535"
      ],
      "text/markdown": [
       "0.291728303747535"
      ],
      "text/plain": [
       "[1] 0.2917283"
      ]
     },
     "metadata": {},
     "output_type": "display_data"
    }
   ],
   "source": [
    "# get modularity score\n",
    "modularity(fgc)"
   ]
  },
  {
   "cell_type": "code",
   "execution_count": 42,
   "id": "b271f34e",
   "metadata": {},
   "outputs": [
    {
     "data": {
      "image/png": "[encoded data removed]",
      "text/plain": [
       "plot without title"
      ]
     },
     "metadata": {},
     "output_type": "display_data"
    }
   ],
   "source": [
    "comm_plot <- ggplot(communities, aes(x = x, y = y, color = cluster, label = name))\n",
    "comm_plot <- comm_plot + geom_label(aes(fill = cluster), colour = \"white\")\n",
    "comm_plot"
   ]
  },
  {
   "cell_type": "code",
   "execution_count": 43,
   "id": "ec96b307",
   "metadata": {},
   "outputs": [
    {
     "data": {
      "image/png": "[encoded data removed]",
      "text/plain": [
       "Plot with title \"\""
      ]
     },
     "metadata": {},
     "output_type": "display_data"
    }
   ],
   "source": [
    "plot(fgc, fplg_undirected,\n",
    "     vertex.size = 15,\n",
    "     vertex.label.cex = 0.8,\n",
    "     vertex.label = fgc$names,\n",
    "     edge.arrow.size = 0,\n",
    "     edge.curved = TRUE,\n",
    "     vertex.label.color = \"black\",\n",
    "     layout = layout.fruchterman.reingold)"
   ]
  },
  {
   "cell_type": "code",
   "execution_count": 44,
   "id": "c9030612",
   "metadata": {},
   "outputs": [
    {
     "data": {
      "text/plain": [
       "\n",
       " 1  2  3  4  5  6  7  8  9 10 11 12 \n",
       "15  1  1  1  1  1  9  1  1  2  1  1 "
      ]
     },
     "metadata": {},
     "output_type": "display_data"
    }
   ],
   "source": [
    "# edge betweenness clustering\n",
    "ebc <- cluster_edge_betweenness(fplg_undirected)\n",
    "layout <- layout_with_fr(fplg_undirected,\n",
    "                         niter = 500, start.temp = 5.744)\n",
    "communities <- data.frame(layout)\n",
    "names(communities) <- c(\"x\", \"y\")\n",
    "communities$cluster <- factor(ebc$membership)\n",
    "communities$name <- V(fplg_undirected)$label\n",
    "table(communities$cluster)"
   ]
  },
  {
   "cell_type": "code",
   "execution_count": 45,
   "id": "ea035e9d",
   "metadata": {},
   "outputs": [
    {
     "data": {
      "text/html": [
       "0.20595003287311"
      ],
      "text/latex": [
       "0.20595003287311"
      ],
      "text/markdown": [
       "0.20595003287311"
      ],
      "text/plain": [
       "[1] 0.20595"
      ]
     },
     "metadata": {},
     "output_type": "display_data"
    },
    {
     "data": {
      "image/png": "[encoded data removed]",
      "text/plain": [
       "plot without title"
      ]
     },
     "metadata": {},
     "output_type": "display_data"
    }
   ],
   "source": [
    "community_groups <- unlist(lapply(groups(ebc),\n",
    "                                  function(item) {\n",
    "                                    pages <- communities$name[item]\n",
    "                                    i <- 1;\n",
    "                                    lim <- 4;\n",
    "                                    s <- \"\"\n",
    "                                    while(i <= length(pages)) {\n",
    "                                      start = i\n",
    "                                      end = min((i + lim - 1), length(pages))\n",
    "                                      s <- paste(s, paste(pages[start:end], collapse = \", \"))\n",
    "                                      s <- paste(s, \"\\n\")\n",
    "                                                 i= i + lim\n",
    "                                    }\n",
    "                                    return(substr(s, 1, (nchar(s) - 2)))\n",
    "                                  }))\n",
    "grid.table(community_groups)\n",
    "modularity(ebc)"
   ]
  },
  {
   "cell_type": "code",
   "execution_count": 46,
   "id": "3b86b061",
   "metadata": {},
   "outputs": [
    {
     "data": {
      "image/png": "[encoded data removed]",
      "text/plain": [
       "plot without title"
      ]
     },
     "metadata": {},
     "output_type": "display_data"
    }
   ],
   "source": [
    "comm_plot <- ggplot(communities, aes(x = x, y = y, color = cluster, label = name))\n",
    "comm_plot <- comm_plot + geom_label(aes(fill = cluster), colour = \"white\")\n",
    "comm_plot"
   ]
  },
  {
   "cell_type": "code",
   "execution_count": 47,
   "id": "03c21e19",
   "metadata": {},
   "outputs": [
    {
     "data": {
      "image/png": "[encoded data removed]",
      "text/plain": [
       "Plot with title \"\""
      ]
     },
     "metadata": {},
     "output_type": "display_data"
    }
   ],
   "source": [
    "plot(ebc, fplg_undirected,\n",
    "     vertex.size = 15,\n",
    "     vertex.label.cex = 0.8,\n",
    "     vertex.label = ebc$names,\n",
    "     edge.arrow.size = 0,\n",
    "     edge.curved = TRUE,\n",
    "     vertex.label.color = \"black\",\n",
    "     layout = layout.fruchterman.reingold)"
   ]
  },
  {
   "cell_type": "code",
   "execution_count": null,
   "id": "702677f1",
   "metadata": {},
   "outputs": [],
   "source": []
  }
 ],
 "metadata": {
  "kernelspec": {
   "display_name": "R",
   "language": "R",
   "name": "ir"
  },
  "language_info": {
   "codemirror_mode": "r",
   "file_extension": ".r",
   "mimetype": "text/x-r-source",
   "name": "R",
   "pygments_lexer": "r",
   "version": "3.6.1"
  }
 },
 "nbformat": 4,
 "nbformat_minor": 5
}
